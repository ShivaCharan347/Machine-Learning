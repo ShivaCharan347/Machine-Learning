{
 "cells": [
  {
   "cell_type": "code",
   "execution_count": 1,
   "id": "468b9686",
   "metadata": {},
   "outputs": [],
   "source": [
    "import pandas as pd\n",
    "import numpy as np\n",
    "import matplotlib.pyplot as plt\n",
    "import seaborn as sns\n",
    "from sklearn import preprocessing\n",
    "from sklearn.preprocessing import LabelEncoder\n",
    "from sklearn.model_selection import cross_val_score\n",
    "from sklearn.preprocessing import StandardScaler\n",
    "from sklearn.linear_model import LogisticRegression\n",
    "from sklearn.model_selection import train_test_split\n",
    "from sklearn.metrics import confusion_matrix,accuracy_score,classification_report,precision_score,recall_score,f1_score\n",
    "from sklearn.model_selection import KFold\n",
    "from sklearn.tree import DecisionTreeClassifier\n",
    "from sklearn.naive_bayes import BernoulliNB\n",
    "from sklearn.metrics import roc_auc_score, roc_curve\n",
    "from sklearn.neighbors import KNeighborsClassifier\n",
    "from sklearn.ensemble import AdaBoostClassifier\n",
    "from sklearn.ensemble import StackingClassifier\n",
    "from sklearn.naive_bayes import GaussianNB\n",
    "from sklearn.svm import SVC\n",
    "from tabulate import tabulate\n",
    "from sklearn.ensemble import RandomForestClassifier\n",
    "from sklearn.model_selection import KFold\n",
    "from sklearn.model_selection import GridSearchCV\n",
    "import warnings\n",
    "warnings.filterwarnings(\"ignore\")"
   ]
  },
  {
   "cell_type": "code",
   "execution_count": 4,
   "id": "c2acea27",
   "metadata": {},
   "outputs": [
    {
     "data": {
      "text/html": [
       "<div>\n",
       "<style scoped>\n",
       "    .dataframe tbody tr th:only-of-type {\n",
       "        vertical-align: middle;\n",
       "    }\n",
       "\n",
       "    .dataframe tbody tr th {\n",
       "        vertical-align: top;\n",
       "    }\n",
       "\n",
       "    .dataframe thead th {\n",
       "        text-align: right;\n",
       "    }\n",
       "</style>\n",
       "<table border=\"1\" class=\"dataframe\">\n",
       "  <thead>\n",
       "    <tr style=\"text-align: right;\">\n",
       "      <th></th>\n",
       "      <th>budget</th>\n",
       "      <th>original_language</th>\n",
       "      <th>popularity</th>\n",
       "      <th>revenue</th>\n",
       "      <th>runtime</th>\n",
       "      <th>status</th>\n",
       "      <th>title</th>\n",
       "      <th>vote_average</th>\n",
       "      <th>vote_count</th>\n",
       "      <th>release_year</th>\n",
       "      <th>release_month</th>\n",
       "      <th>genre_type</th>\n",
       "      <th>production_country</th>\n",
       "      <th>lead_name</th>\n",
       "      <th>production_company</th>\n",
       "      <th>lead_chrctr_name</th>\n",
       "      <th>directors</th>\n",
       "      <th>profit</th>\n",
       "    </tr>\n",
       "  </thead>\n",
       "  <tbody>\n",
       "    <tr>\n",
       "      <th>0</th>\n",
       "      <td>237000000</td>\n",
       "      <td>en</td>\n",
       "      <td>150.437577</td>\n",
       "      <td>2787965087</td>\n",
       "      <td>107.0</td>\n",
       "      <td>Released</td>\n",
       "      <td>Avatar</td>\n",
       "      <td>7.2</td>\n",
       "      <td>11800</td>\n",
       "      <td>2009</td>\n",
       "      <td>10</td>\n",
       "      <td>Action</td>\n",
       "      <td>United States of America</td>\n",
       "      <td>Sam Worthington</td>\n",
       "      <td>Ingenious Film Partners</td>\n",
       "      <td>Jake Sully</td>\n",
       "      <td>James Cameron</td>\n",
       "      <td>2550965087</td>\n",
       "    </tr>\n",
       "    <tr>\n",
       "      <th>1</th>\n",
       "      <td>300000000</td>\n",
       "      <td>en</td>\n",
       "      <td>139.082615</td>\n",
       "      <td>961000000</td>\n",
       "      <td>107.0</td>\n",
       "      <td>Released</td>\n",
       "      <td>Pirates of the Caribbean: At World's End</td>\n",
       "      <td>6.9</td>\n",
       "      <td>4500</td>\n",
       "      <td>2007</td>\n",
       "      <td>5</td>\n",
       "      <td>Adventure</td>\n",
       "      <td>United States of America</td>\n",
       "      <td>Johnny Depp</td>\n",
       "      <td>Walt Disney Pictures</td>\n",
       "      <td>Captain Jack Sparrow</td>\n",
       "      <td>Gore Verbinski</td>\n",
       "      <td>661000000</td>\n",
       "    </tr>\n",
       "    <tr>\n",
       "      <th>2</th>\n",
       "      <td>245000000</td>\n",
       "      <td>en</td>\n",
       "      <td>107.376788</td>\n",
       "      <td>880674609</td>\n",
       "      <td>148.0</td>\n",
       "      <td>Released</td>\n",
       "      <td>Spectre</td>\n",
       "      <td>6.3</td>\n",
       "      <td>4466</td>\n",
       "      <td>2015</td>\n",
       "      <td>10</td>\n",
       "      <td>Action</td>\n",
       "      <td>United Kingdom</td>\n",
       "      <td>Daniel Craig</td>\n",
       "      <td>Columbia Pictures</td>\n",
       "      <td>James Bond</td>\n",
       "      <td>Sam Mendes</td>\n",
       "      <td>635674609</td>\n",
       "    </tr>\n",
       "    <tr>\n",
       "      <th>3</th>\n",
       "      <td>250000000</td>\n",
       "      <td>en</td>\n",
       "      <td>112.312950</td>\n",
       "      <td>1084939099</td>\n",
       "      <td>107.0</td>\n",
       "      <td>Released</td>\n",
       "      <td>The Dark Knight Rises</td>\n",
       "      <td>7.6</td>\n",
       "      <td>9106</td>\n",
       "      <td>2012</td>\n",
       "      <td>7</td>\n",
       "      <td>Action</td>\n",
       "      <td>United States of America</td>\n",
       "      <td>Christian Bale</td>\n",
       "      <td>Legendary Pictures</td>\n",
       "      <td>Bruce Wayne / Batman</td>\n",
       "      <td>Christopher Nolan</td>\n",
       "      <td>834939099</td>\n",
       "    </tr>\n",
       "    <tr>\n",
       "      <th>4</th>\n",
       "      <td>260000000</td>\n",
       "      <td>en</td>\n",
       "      <td>43.926995</td>\n",
       "      <td>284139100</td>\n",
       "      <td>132.0</td>\n",
       "      <td>Released</td>\n",
       "      <td>John Carter</td>\n",
       "      <td>6.1</td>\n",
       "      <td>2124</td>\n",
       "      <td>2012</td>\n",
       "      <td>7</td>\n",
       "      <td>Action</td>\n",
       "      <td>United States of America</td>\n",
       "      <td>Taylor Kitsch</td>\n",
       "      <td>Walt Disney Pictures</td>\n",
       "      <td>John Carter</td>\n",
       "      <td>Andrew Stanton</td>\n",
       "      <td>24139100</td>\n",
       "    </tr>\n",
       "    <tr>\n",
       "      <th>...</th>\n",
       "      <td>...</td>\n",
       "      <td>...</td>\n",
       "      <td>...</td>\n",
       "      <td>...</td>\n",
       "      <td>...</td>\n",
       "      <td>...</td>\n",
       "      <td>...</td>\n",
       "      <td>...</td>\n",
       "      <td>...</td>\n",
       "      <td>...</td>\n",
       "      <td>...</td>\n",
       "      <td>...</td>\n",
       "      <td>...</td>\n",
       "      <td>...</td>\n",
       "      <td>...</td>\n",
       "      <td>...</td>\n",
       "      <td>...</td>\n",
       "      <td>...</td>\n",
       "    </tr>\n",
       "    <tr>\n",
       "      <th>3224</th>\n",
       "      <td>27000</td>\n",
       "      <td>en</td>\n",
       "      <td>19.748658</td>\n",
       "      <td>3151130</td>\n",
       "      <td>92.0</td>\n",
       "      <td>Released</td>\n",
       "      <td>Clerks</td>\n",
       "      <td>7.4</td>\n",
       "      <td>755</td>\n",
       "      <td>1994</td>\n",
       "      <td>9</td>\n",
       "      <td>Comedy</td>\n",
       "      <td>United States of America</td>\n",
       "      <td>Brian O'Halloran</td>\n",
       "      <td>Miramax Films</td>\n",
       "      <td>Dante Hicks</td>\n",
       "      <td>Kevin Smith</td>\n",
       "      <td>3124130</td>\n",
       "    </tr>\n",
       "    <tr>\n",
       "      <th>3225</th>\n",
       "      <td>12000</td>\n",
       "      <td>en</td>\n",
       "      <td>4.553644</td>\n",
       "      <td>6000000</td>\n",
       "      <td>93.0</td>\n",
       "      <td>Released</td>\n",
       "      <td>Pink Flamingos</td>\n",
       "      <td>6.2</td>\n",
       "      <td>110</td>\n",
       "      <td>1972</td>\n",
       "      <td>12</td>\n",
       "      <td>Horror</td>\n",
       "      <td>United States of America</td>\n",
       "      <td>Divine</td>\n",
       "      <td>Dreamland Productions</td>\n",
       "      <td>Divine / Babs Johnson</td>\n",
       "      <td>John Waters</td>\n",
       "      <td>5988000</td>\n",
       "    </tr>\n",
       "    <tr>\n",
       "      <th>3226</th>\n",
       "      <td>20000</td>\n",
       "      <td>ja</td>\n",
       "      <td>0.212443</td>\n",
       "      <td>99000</td>\n",
       "      <td>111.0</td>\n",
       "      <td>Released</td>\n",
       "      <td>Cure</td>\n",
       "      <td>7.4</td>\n",
       "      <td>63</td>\n",
       "      <td>1997</td>\n",
       "      <td>6</td>\n",
       "      <td>Crime</td>\n",
       "      <td>Japan</td>\n",
       "      <td>Koji Yakusho</td>\n",
       "      <td>Daiei Studios</td>\n",
       "      <td>Kenichi Takabe</td>\n",
       "      <td>Kiyoshi Kurosawa</td>\n",
       "      <td>79000</td>\n",
       "    </tr>\n",
       "    <tr>\n",
       "      <th>3227</th>\n",
       "      <td>7000</td>\n",
       "      <td>en</td>\n",
       "      <td>23.307949</td>\n",
       "      <td>424760</td>\n",
       "      <td>77.0</td>\n",
       "      <td>Released</td>\n",
       "      <td>Primer</td>\n",
       "      <td>6.9</td>\n",
       "      <td>658</td>\n",
       "      <td>2004</td>\n",
       "      <td>8</td>\n",
       "      <td>Science Fiction</td>\n",
       "      <td>United States of America</td>\n",
       "      <td>Shane Carruth</td>\n",
       "      <td>Thinkfilm</td>\n",
       "      <td>Aaron</td>\n",
       "      <td>Shane Carruth</td>\n",
       "      <td>417760</td>\n",
       "    </tr>\n",
       "    <tr>\n",
       "      <th>3228</th>\n",
       "      <td>220000</td>\n",
       "      <td>es</td>\n",
       "      <td>14.269792</td>\n",
       "      <td>2040920</td>\n",
       "      <td>81.0</td>\n",
       "      <td>Released</td>\n",
       "      <td>El Mariachi</td>\n",
       "      <td>6.6</td>\n",
       "      <td>238</td>\n",
       "      <td>1992</td>\n",
       "      <td>4</td>\n",
       "      <td>Action</td>\n",
       "      <td>Mexico</td>\n",
       "      <td>Carlos Gallardo</td>\n",
       "      <td>Columbia Pictures</td>\n",
       "      <td>El Mariachi</td>\n",
       "      <td>Robert Rodriguez</td>\n",
       "      <td>1820920</td>\n",
       "    </tr>\n",
       "  </tbody>\n",
       "</table>\n",
       "<p>3229 rows × 18 columns</p>\n",
       "</div>"
      ],
      "text/plain": [
       "         budget original_language  popularity     revenue  runtime    status  \\\n",
       "0     237000000                en  150.437577  2787965087    107.0  Released   \n",
       "1     300000000                en  139.082615   961000000    107.0  Released   \n",
       "2     245000000                en  107.376788   880674609    148.0  Released   \n",
       "3     250000000                en  112.312950  1084939099    107.0  Released   \n",
       "4     260000000                en   43.926995   284139100    132.0  Released   \n",
       "...         ...               ...         ...         ...      ...       ...   \n",
       "3224      27000                en   19.748658     3151130     92.0  Released   \n",
       "3225      12000                en    4.553644     6000000     93.0  Released   \n",
       "3226      20000                ja    0.212443       99000    111.0  Released   \n",
       "3227       7000                en   23.307949      424760     77.0  Released   \n",
       "3228     220000                es   14.269792     2040920     81.0  Released   \n",
       "\n",
       "                                         title  vote_average  vote_count  \\\n",
       "0                                       Avatar           7.2       11800   \n",
       "1     Pirates of the Caribbean: At World's End           6.9        4500   \n",
       "2                                      Spectre           6.3        4466   \n",
       "3                        The Dark Knight Rises           7.6        9106   \n",
       "4                                  John Carter           6.1        2124   \n",
       "...                                        ...           ...         ...   \n",
       "3224                                    Clerks           7.4         755   \n",
       "3225                            Pink Flamingos           6.2         110   \n",
       "3226                                      Cure           7.4          63   \n",
       "3227                                    Primer           6.9         658   \n",
       "3228                               El Mariachi           6.6         238   \n",
       "\n",
       "      release_year  release_month       genre_type        production_country  \\\n",
       "0             2009             10           Action  United States of America   \n",
       "1             2007              5        Adventure  United States of America   \n",
       "2             2015             10           Action            United Kingdom   \n",
       "3             2012              7           Action  United States of America   \n",
       "4             2012              7           Action  United States of America   \n",
       "...            ...            ...              ...                       ...   \n",
       "3224          1994              9           Comedy  United States of America   \n",
       "3225          1972             12           Horror  United States of America   \n",
       "3226          1997              6            Crime                     Japan   \n",
       "3227          2004              8  Science Fiction  United States of America   \n",
       "3228          1992              4           Action                    Mexico   \n",
       "\n",
       "             lead_name       production_company       lead_chrctr_name  \\\n",
       "0      Sam Worthington  Ingenious Film Partners             Jake Sully   \n",
       "1          Johnny Depp     Walt Disney Pictures   Captain Jack Sparrow   \n",
       "2         Daniel Craig        Columbia Pictures             James Bond   \n",
       "3       Christian Bale       Legendary Pictures   Bruce Wayne / Batman   \n",
       "4        Taylor Kitsch     Walt Disney Pictures            John Carter   \n",
       "...                ...                      ...                    ...   \n",
       "3224  Brian O'Halloran            Miramax Films            Dante Hicks   \n",
       "3225            Divine    Dreamland Productions  Divine / Babs Johnson   \n",
       "3226      Koji Yakusho            Daiei Studios         Kenichi Takabe   \n",
       "3227     Shane Carruth                Thinkfilm                  Aaron   \n",
       "3228   Carlos Gallardo        Columbia Pictures            El Mariachi   \n",
       "\n",
       "              directors      profit  \n",
       "0         James Cameron  2550965087  \n",
       "1        Gore Verbinski   661000000  \n",
       "2            Sam Mendes   635674609  \n",
       "3     Christopher Nolan   834939099  \n",
       "4        Andrew Stanton    24139100  \n",
       "...                 ...         ...  \n",
       "3224        Kevin Smith     3124130  \n",
       "3225        John Waters     5988000  \n",
       "3226   Kiyoshi Kurosawa       79000  \n",
       "3227      Shane Carruth      417760  \n",
       "3228   Robert Rodriguez     1820920  \n",
       "\n",
       "[3229 rows x 18 columns]"
      ]
     },
     "execution_count": 4,
     "metadata": {},
     "output_type": "execute_result"
    }
   ],
   "source": [
    "movie_df = pd.read_csv('movie_data.csv')\n",
    "movie_df"
   ]
  },
  {
   "cell_type": "code",
   "execution_count": 5,
   "id": "3c1a3147",
   "metadata": {},
   "outputs": [
    {
     "data": {
      "text/plain": [
       "budget                0\n",
       "original_language     0\n",
       "popularity            0\n",
       "revenue               0\n",
       "runtime               0\n",
       "status                0\n",
       "title                 0\n",
       "vote_average          0\n",
       "vote_count            0\n",
       "release_year          0\n",
       "release_month         0\n",
       "genre_type            0\n",
       "production_country    0\n",
       "lead_name             0\n",
       "production_company    0\n",
       "lead_chrctr_name      2\n",
       "directors             0\n",
       "profit                0\n",
       "dtype: int64"
      ]
     },
     "execution_count": 5,
     "metadata": {},
     "output_type": "execute_result"
    }
   ],
   "source": [
    "movie_df.isnull().sum()"
   ]
  },
  {
   "cell_type": "code",
   "execution_count": 6,
   "id": "68fb8167",
   "metadata": {},
   "outputs": [],
   "source": [
    "movie_df.dropna(inplace=True)"
   ]
  },
  {
   "cell_type": "code",
   "execution_count": 7,
   "id": "f2b6316f",
   "metadata": {},
   "outputs": [
    {
     "data": {
      "text/plain": [
       "budget                0\n",
       "original_language     0\n",
       "popularity            0\n",
       "revenue               0\n",
       "runtime               0\n",
       "status                0\n",
       "title                 0\n",
       "vote_average          0\n",
       "vote_count            0\n",
       "release_year          0\n",
       "release_month         0\n",
       "genre_type            0\n",
       "production_country    0\n",
       "lead_name             0\n",
       "production_company    0\n",
       "lead_chrctr_name      0\n",
       "directors             0\n",
       "profit                0\n",
       "dtype: int64"
      ]
     },
     "execution_count": 7,
     "metadata": {},
     "output_type": "execute_result"
    }
   ],
   "source": [
    "movie_df.isnull().sum()"
   ]
  },
  {
   "cell_type": "code",
   "execution_count": 8,
   "id": "e8426fcc",
   "metadata": {},
   "outputs": [
    {
     "name": "stdout",
     "output_type": "stream",
     "text": [
      "Category            Continuous\n",
      "------------------  -------------\n",
      "original_language   budget\n",
      "status              popularity\n",
      "title               revenue\n",
      "genre_type          runtime\n",
      "production_country  vote_average\n",
      "lead_name           vote_count\n",
      "production_company  release_year\n",
      "lead_chrctr_name    release_month\n",
      "directors           profit\n"
     ]
    }
   ],
   "source": [
    "from tabulate import tabulate\n",
    "def dtype(col):\n",
    "    cat = []\n",
    "    con = []\n",
    "    for col in movie_df:\n",
    "        if(movie_df[col].dtypes == 'object'):\n",
    "            cat.append(col)\n",
    "        else:\n",
    "            con.append(col)\n",
    "    return cat, con\n",
    "cat, con = dtype(movie_df)\n",
    "table = [cat, con]\n",
    "print(tabulate({\"Categorical\": cat, \"Continuous\": con}, headers=['Category', \"Continuous\"]))"
   ]
  },
  {
   "cell_type": "code",
   "execution_count": 9,
   "id": "ba19adbf",
   "metadata": {},
   "outputs": [
    {
     "data": {
      "text/plain": [
       "Drama              747\n",
       "Comedy             634\n",
       "Action             588\n",
       "Adventure          288\n",
       "Horror             197\n",
       "Crime              141\n",
       "Thriller           118\n",
       "Animation           99\n",
       "Fantasy             93\n",
       "Science Fiction     78\n",
       "Romance             70\n",
       "Family              38\n",
       "Documentary         30\n",
       "Mystery             27\n",
       "Western             22\n",
       "Music               20\n",
       "History             18\n",
       "War                 18\n",
       "Foreign              1\n",
       "Name: genre_type, dtype: int64"
      ]
     },
     "execution_count": 9,
     "metadata": {},
     "output_type": "execute_result"
    }
   ],
   "source": [
    "movie_df.genre_type.value_counts()"
   ]
  },
  {
   "cell_type": "code",
   "execution_count": 10,
   "id": "806a03c4",
   "metadata": {},
   "outputs": [
    {
     "name": "stdout",
     "output_type": "stream",
     "text": [
      "<class 'pandas.core.frame.DataFrame'>\n",
      "Int64Index: 3227 entries, 0 to 3228\n",
      "Data columns (total 18 columns):\n",
      " #   Column              Non-Null Count  Dtype   \n",
      "---  ------              --------------  -----   \n",
      " 0   budget              3227 non-null   int64   \n",
      " 1   original_language   3227 non-null   category\n",
      " 2   popularity          3227 non-null   float64 \n",
      " 3   revenue             3227 non-null   int64   \n",
      " 4   runtime             3227 non-null   float64 \n",
      " 5   status              3227 non-null   category\n",
      " 6   title               3227 non-null   category\n",
      " 7   vote_average        3227 non-null   float64 \n",
      " 8   vote_count          3227 non-null   int64   \n",
      " 9   release_year        3227 non-null   int64   \n",
      " 10  release_month       3227 non-null   int64   \n",
      " 11  genre_type          3227 non-null   category\n",
      " 12  production_country  3227 non-null   category\n",
      " 13  lead_name           3227 non-null   category\n",
      " 14  production_company  3227 non-null   category\n",
      " 15  lead_chrctr_name    3227 non-null   category\n",
      " 16  directors           3227 non-null   category\n",
      " 17  profit              3227 non-null   int64   \n",
      "dtypes: category(9), float64(3), int64(6)\n",
      "memory usage: 648.9 KB\n"
     ]
    }
   ],
   "source": [
    "#Object to Categorical\n",
    "for i in cat:\n",
    "    movie_df[i]= movie_df[i].astype(\"category\")\n",
    "movie_df.info()"
   ]
  },
  {
   "cell_type": "code",
   "execution_count": 11,
   "id": "9aa5d1c3",
   "metadata": {},
   "outputs": [
    {
     "name": "stdout",
     "output_type": "stream",
     "text": [
      "<class 'pandas.core.frame.DataFrame'>\n",
      "Int64Index: 3227 entries, 0 to 3228\n",
      "Data columns (total 18 columns):\n",
      " #   Column              Non-Null Count  Dtype  \n",
      "---  ------              --------------  -----  \n",
      " 0   budget              3227 non-null   int64  \n",
      " 1   original_language   3227 non-null   int32  \n",
      " 2   popularity          3227 non-null   float64\n",
      " 3   revenue             3227 non-null   int64  \n",
      " 4   runtime             3227 non-null   float64\n",
      " 5   status              3227 non-null   int32  \n",
      " 6   title               3227 non-null   int32  \n",
      " 7   vote_average        3227 non-null   float64\n",
      " 8   vote_count          3227 non-null   int64  \n",
      " 9   release_year        3227 non-null   int64  \n",
      " 10  release_month       3227 non-null   int64  \n",
      " 11  genre_type          3227 non-null   int32  \n",
      " 12  production_country  3227 non-null   int32  \n",
      " 13  lead_name           3227 non-null   int32  \n",
      " 14  production_company  3227 non-null   int32  \n",
      " 15  lead_chrctr_name    3227 non-null   int32  \n",
      " 16  directors           3227 non-null   int32  \n",
      " 17  profit              3227 non-null   int64  \n",
      "dtypes: float64(3), int32(9), int64(6)\n",
      "memory usage: 365.6 KB\n"
     ]
    }
   ],
   "source": [
    "label_encoder = preprocessing.LabelEncoder()\n",
    "for i in cat:\n",
    "    movie_df[i] = label_encoder.fit_transform(movie_df[i])\n",
    "movie_df.info()"
   ]
  },
  {
   "cell_type": "code",
   "execution_count": 12,
   "id": "afe3a131",
   "metadata": {},
   "outputs": [],
   "source": [
    "movie_df = movie_df.drop(movie_df[movie_df['genre_type'] == 9].index)"
   ]
  },
  {
   "cell_type": "code",
   "execution_count": 13,
   "id": "75673bfb",
   "metadata": {},
   "outputs": [
    {
     "data": {
      "text/html": [
       "<div>\n",
       "<style scoped>\n",
       "    .dataframe tbody tr th:only-of-type {\n",
       "        vertical-align: middle;\n",
       "    }\n",
       "\n",
       "    .dataframe tbody tr th {\n",
       "        vertical-align: top;\n",
       "    }\n",
       "\n",
       "    .dataframe thead th {\n",
       "        text-align: right;\n",
       "    }\n",
       "</style>\n",
       "<table border=\"1\" class=\"dataframe\">\n",
       "  <thead>\n",
       "    <tr style=\"text-align: right;\">\n",
       "      <th></th>\n",
       "      <th>budget</th>\n",
       "      <th>original_language</th>\n",
       "      <th>popularity</th>\n",
       "      <th>revenue</th>\n",
       "      <th>runtime</th>\n",
       "      <th>status</th>\n",
       "      <th>title</th>\n",
       "      <th>vote_average</th>\n",
       "      <th>vote_count</th>\n",
       "      <th>release_year</th>\n",
       "      <th>release_month</th>\n",
       "      <th>genre_type</th>\n",
       "      <th>production_country</th>\n",
       "      <th>lead_name</th>\n",
       "      <th>production_company</th>\n",
       "      <th>lead_chrctr_name</th>\n",
       "      <th>directors</th>\n",
       "      <th>profit</th>\n",
       "    </tr>\n",
       "  </thead>\n",
       "  <tbody>\n",
       "    <tr>\n",
       "      <th>0</th>\n",
       "      <td>4.421821</td>\n",
       "      <td>-0.138005</td>\n",
       "      <td>3.356024</td>\n",
       "      <td>14.311189</td>\n",
       "      <td>-0.096406</td>\n",
       "      <td>0.017609</td>\n",
       "      <td>-1.457447</td>\n",
       "      <td>1.019195</td>\n",
       "      <td>7.650907</td>\n",
       "      <td>0.551263</td>\n",
       "      <td>0.899043</td>\n",
       "      <td>-1.091329</td>\n",
       "      <td>0.502633</td>\n",
       "      <td>1.172572</td>\n",
       "      <td>-0.507021</td>\n",
       "      <td>-0.208877</td>\n",
       "      <td>-0.468589</td>\n",
       "      <td>15.616892</td>\n",
       "    </tr>\n",
       "    <tr>\n",
       "      <th>1</th>\n",
       "      <td>5.840867</td>\n",
       "      <td>-0.138005</td>\n",
       "      <td>3.042068</td>\n",
       "      <td>4.506264</td>\n",
       "      <td>-0.096406</td>\n",
       "      <td>0.017609</td>\n",
       "      <td>0.155552</td>\n",
       "      <td>0.675976</td>\n",
       "      <td>2.489892</td>\n",
       "      <td>0.400687</td>\n",
       "      <td>-0.539747</td>\n",
       "      <td>-0.874968</td>\n",
       "      <td>0.502633</td>\n",
       "      <td>-0.061785</td>\n",
       "      <td>1.232266</td>\n",
       "      <td>-1.243993</td>\n",
       "      <td>-0.645036</td>\n",
       "      <td>3.668855</td>\n",
       "    </tr>\n",
       "    <tr>\n",
       "      <th>2</th>\n",
       "      <td>4.602017</td>\n",
       "      <td>-0.138005</td>\n",
       "      <td>2.165428</td>\n",
       "      <td>4.075175</td>\n",
       "      <td>2.396502</td>\n",
       "      <td>0.017609</td>\n",
       "      <td>0.549673</td>\n",
       "      <td>-0.010462</td>\n",
       "      <td>2.465854</td>\n",
       "      <td>1.002990</td>\n",
       "      <td>0.899043</td>\n",
       "      <td>-1.091329</td>\n",
       "      <td>0.425778</td>\n",
       "      <td>-1.014997</td>\n",
       "      <td>-1.367558</td>\n",
       "      <td>-0.194229</td>\n",
       "      <td>1.088438</td>\n",
       "      <td>3.508752</td>\n",
       "    </tr>\n",
       "    <tr>\n",
       "      <th>3</th>\n",
       "      <td>4.714640</td>\n",
       "      <td>-0.138005</td>\n",
       "      <td>2.301909</td>\n",
       "      <td>5.171418</td>\n",
       "      <td>-0.096406</td>\n",
       "      <td>0.017609</td>\n",
       "      <td>0.866474</td>\n",
       "      <td>1.476821</td>\n",
       "      <td>5.746281</td>\n",
       "      <td>0.777126</td>\n",
       "      <td>0.035769</td>\n",
       "      <td>-1.091329</td>\n",
       "      <td>0.502633</td>\n",
       "      <td>-1.143520</td>\n",
       "      <td>-0.279365</td>\n",
       "      <td>-1.308688</td>\n",
       "      <td>-1.248295</td>\n",
       "      <td>4.768468</td>\n",
       "    </tr>\n",
       "    <tr>\n",
       "      <th>4</th>\n",
       "      <td>4.939886</td>\n",
       "      <td>-0.138005</td>\n",
       "      <td>0.411092</td>\n",
       "      <td>0.873698</td>\n",
       "      <td>1.423660</td>\n",
       "      <td>0.017609</td>\n",
       "      <td>-0.379251</td>\n",
       "      <td>-0.239275</td>\n",
       "      <td>0.810088</td>\n",
       "      <td>0.777126</td>\n",
       "      <td>0.035769</td>\n",
       "      <td>-1.091329</td>\n",
       "      <td>0.502633</td>\n",
       "      <td>1.434973</td>\n",
       "      <td>1.232266</td>\n",
       "      <td>-0.022117</td>\n",
       "      <td>-1.620264</td>\n",
       "      <td>-0.357271</td>\n",
       "    </tr>\n",
       "    <tr>\n",
       "      <th>...</th>\n",
       "      <td>...</td>\n",
       "      <td>...</td>\n",
       "      <td>...</td>\n",
       "      <td>...</td>\n",
       "      <td>...</td>\n",
       "      <td>...</td>\n",
       "      <td>...</td>\n",
       "      <td>...</td>\n",
       "      <td>...</td>\n",
       "      <td>...</td>\n",
       "      <td>...</td>\n",
       "      <td>...</td>\n",
       "      <td>...</td>\n",
       "      <td>...</td>\n",
       "      <td>...</td>\n",
       "      <td>...</td>\n",
       "      <td>...</td>\n",
       "      <td>...</td>\n",
       "    </tr>\n",
       "    <tr>\n",
       "      <th>3221</th>\n",
       "      <td>-0.915888</td>\n",
       "      <td>-0.138005</td>\n",
       "      <td>-0.257420</td>\n",
       "      <td>-0.634303</td>\n",
       "      <td>-1.008445</td>\n",
       "      <td>0.017609</td>\n",
       "      <td>-1.163198</td>\n",
       "      <td>1.248008</td>\n",
       "      <td>-0.157780</td>\n",
       "      <td>-0.578055</td>\n",
       "      <td>0.611285</td>\n",
       "      <td>-0.442246</td>\n",
       "      <td>0.502633</td>\n",
       "      <td>-1.347015</td>\n",
       "      <td>0.007480</td>\n",
       "      <td>-0.968125</td>\n",
       "      <td>0.072675</td>\n",
       "      <td>-0.490124</td>\n",
       "    </tr>\n",
       "    <tr>\n",
       "      <th>3222</th>\n",
       "      <td>-0.916226</td>\n",
       "      <td>-0.138005</td>\n",
       "      <td>-0.677550</td>\n",
       "      <td>-0.619014</td>\n",
       "      <td>-0.947643</td>\n",
       "      <td>0.017609</td>\n",
       "      <td>0.151256</td>\n",
       "      <td>-0.124868</td>\n",
       "      <td>-0.613787</td>\n",
       "      <td>-2.234387</td>\n",
       "      <td>1.474559</td>\n",
       "      <td>1.288643</td>\n",
       "      <td>0.502633</td>\n",
       "      <td>-0.902540</td>\n",
       "      <td>-1.130797</td>\n",
       "      <td>-0.866810</td>\n",
       "      <td>-0.151461</td>\n",
       "      <td>-0.472019</td>\n",
       "    </tr>\n",
       "    <tr>\n",
       "      <th>3223</th>\n",
       "      <td>-0.916046</td>\n",
       "      <td>4.231488</td>\n",
       "      <td>-0.797581</td>\n",
       "      <td>-0.650683</td>\n",
       "      <td>0.146805</td>\n",
       "      <td>0.017609</td>\n",
       "      <td>-1.091246</td>\n",
       "      <td>1.248008</td>\n",
       "      <td>-0.647016</td>\n",
       "      <td>-0.352191</td>\n",
       "      <td>-0.251989</td>\n",
       "      <td>-0.225885</td>\n",
       "      <td>-0.880763</td>\n",
       "      <td>0.214004</td>\n",
       "      <td>-1.267390</td>\n",
       "      <td>0.151216</td>\n",
       "      <td>0.096519</td>\n",
       "      <td>-0.509375</td>\n",
       "    </tr>\n",
       "    <tr>\n",
       "      <th>3224</th>\n",
       "      <td>-0.916338</td>\n",
       "      <td>-0.138005</td>\n",
       "      <td>-0.159008</td>\n",
       "      <td>-0.648935</td>\n",
       "      <td>-1.920485</td>\n",
       "      <td>0.017609</td>\n",
       "      <td>0.198508</td>\n",
       "      <td>0.675976</td>\n",
       "      <td>-0.226357</td>\n",
       "      <td>0.174824</td>\n",
       "      <td>0.323527</td>\n",
       "      <td>2.154088</td>\n",
       "      <td>0.502633</td>\n",
       "      <td>1.271642</td>\n",
       "      <td>0.977292</td>\n",
       "      <td>-1.729814</td>\n",
       "      <td>1.159970</td>\n",
       "      <td>-0.507233</td>\n",
       "    </tr>\n",
       "    <tr>\n",
       "      <th>3225</th>\n",
       "      <td>-0.911541</td>\n",
       "      <td>0.347495</td>\n",
       "      <td>-0.408906</td>\n",
       "      <td>-0.640261</td>\n",
       "      <td>-1.677274</td>\n",
       "      <td>0.017609</td>\n",
       "      <td>-0.923718</td>\n",
       "      <td>0.332757</td>\n",
       "      <td>-0.523293</td>\n",
       "      <td>-0.728630</td>\n",
       "      <td>-0.827505</td>\n",
       "      <td>-1.091329</td>\n",
       "      <td>-0.650197</td>\n",
       "      <td>-1.280076</td>\n",
       "      <td>-1.367558</td>\n",
       "      <td>-0.705684</td>\n",
       "      <td>0.964448</td>\n",
       "      <td>-0.498362</td>\n",
       "    </tr>\n",
       "  </tbody>\n",
       "</table>\n",
       "<p>3226 rows × 18 columns</p>\n",
       "</div>"
      ],
      "text/plain": [
       "        budget  original_language  popularity    revenue   runtime    status  \\\n",
       "0     4.421821          -0.138005    3.356024  14.311189 -0.096406  0.017609   \n",
       "1     5.840867          -0.138005    3.042068   4.506264 -0.096406  0.017609   \n",
       "2     4.602017          -0.138005    2.165428   4.075175  2.396502  0.017609   \n",
       "3     4.714640          -0.138005    2.301909   5.171418 -0.096406  0.017609   \n",
       "4     4.939886          -0.138005    0.411092   0.873698  1.423660  0.017609   \n",
       "...        ...                ...         ...        ...       ...       ...   \n",
       "3221 -0.915888          -0.138005   -0.257420  -0.634303 -1.008445  0.017609   \n",
       "3222 -0.916226          -0.138005   -0.677550  -0.619014 -0.947643  0.017609   \n",
       "3223 -0.916046           4.231488   -0.797581  -0.650683  0.146805  0.017609   \n",
       "3224 -0.916338          -0.138005   -0.159008  -0.648935 -1.920485  0.017609   \n",
       "3225 -0.911541           0.347495   -0.408906  -0.640261 -1.677274  0.017609   \n",
       "\n",
       "         title  vote_average  vote_count  release_year  release_month  \\\n",
       "0    -1.457447      1.019195    7.650907      0.551263       0.899043   \n",
       "1     0.155552      0.675976    2.489892      0.400687      -0.539747   \n",
       "2     0.549673     -0.010462    2.465854      1.002990       0.899043   \n",
       "3     0.866474      1.476821    5.746281      0.777126       0.035769   \n",
       "4    -0.379251     -0.239275    0.810088      0.777126       0.035769   \n",
       "...        ...           ...         ...           ...            ...   \n",
       "3221 -1.163198      1.248008   -0.157780     -0.578055       0.611285   \n",
       "3222  0.151256     -0.124868   -0.613787     -2.234387       1.474559   \n",
       "3223 -1.091246      1.248008   -0.647016     -0.352191      -0.251989   \n",
       "3224  0.198508      0.675976   -0.226357      0.174824       0.323527   \n",
       "3225 -0.923718      0.332757   -0.523293     -0.728630      -0.827505   \n",
       "\n",
       "      genre_type  production_country  lead_name  production_company  \\\n",
       "0      -1.091329            0.502633   1.172572           -0.507021   \n",
       "1      -0.874968            0.502633  -0.061785            1.232266   \n",
       "2      -1.091329            0.425778  -1.014997           -1.367558   \n",
       "3      -1.091329            0.502633  -1.143520           -0.279365   \n",
       "4      -1.091329            0.502633   1.434973            1.232266   \n",
       "...          ...                 ...        ...                 ...   \n",
       "3221   -0.442246            0.502633  -1.347015            0.007480   \n",
       "3222    1.288643            0.502633  -0.902540           -1.130797   \n",
       "3223   -0.225885           -0.880763   0.214004           -1.267390   \n",
       "3224    2.154088            0.502633   1.271642            0.977292   \n",
       "3225   -1.091329           -0.650197  -1.280076           -1.367558   \n",
       "\n",
       "      lead_chrctr_name  directors     profit  \n",
       "0            -0.208877  -0.468589  15.616892  \n",
       "1            -1.243993  -0.645036   3.668855  \n",
       "2            -0.194229   1.088438   3.508752  \n",
       "3            -1.308688  -1.248295   4.768468  \n",
       "4            -0.022117  -1.620264  -0.357271  \n",
       "...                ...        ...        ...  \n",
       "3221         -0.968125   0.072675  -0.490124  \n",
       "3222         -0.866810  -0.151461  -0.472019  \n",
       "3223          0.151216   0.096519  -0.509375  \n",
       "3224         -1.729814   1.159970  -0.507233  \n",
       "3225         -0.705684   0.964448  -0.498362  \n",
       "\n",
       "[3226 rows x 18 columns]"
      ]
     },
     "execution_count": 13,
     "metadata": {},
     "output_type": "execute_result"
    }
   ],
   "source": [
    "num_cat = ['int32', 'float64', 'int64']\n",
    "num_df  = movie_df.select_dtypes(include=num_cat)\n",
    "scaler = StandardScaler()\n",
    "scale_df = pd.DataFrame(scaler.fit_transform(num_df), columns=num_df.columns)\n",
    "scale_df"
   ]
  },
  {
   "cell_type": "code",
   "execution_count": 14,
   "id": "580f767b",
   "metadata": {},
   "outputs": [
    {
     "data": {
      "text/html": [
       "<div>\n",
       "<style scoped>\n",
       "    .dataframe tbody tr th:only-of-type {\n",
       "        vertical-align: middle;\n",
       "    }\n",
       "\n",
       "    .dataframe tbody tr th {\n",
       "        vertical-align: top;\n",
       "    }\n",
       "\n",
       "    .dataframe thead th {\n",
       "        text-align: right;\n",
       "    }\n",
       "</style>\n",
       "<table border=\"1\" class=\"dataframe\">\n",
       "  <thead>\n",
       "    <tr style=\"text-align: right;\">\n",
       "      <th></th>\n",
       "      <th>budget</th>\n",
       "      <th>original_language</th>\n",
       "      <th>popularity</th>\n",
       "      <th>revenue</th>\n",
       "      <th>runtime</th>\n",
       "      <th>status</th>\n",
       "      <th>title</th>\n",
       "      <th>vote_average</th>\n",
       "      <th>vote_count</th>\n",
       "      <th>release_year</th>\n",
       "      <th>release_month</th>\n",
       "      <th>genre_type</th>\n",
       "      <th>production_country</th>\n",
       "      <th>lead_name</th>\n",
       "      <th>production_company</th>\n",
       "      <th>lead_chrctr_name</th>\n",
       "      <th>directors</th>\n",
       "      <th>profit</th>\n",
       "    </tr>\n",
       "  </thead>\n",
       "  <tbody>\n",
       "    <tr>\n",
       "      <th>budget</th>\n",
       "      <td>1.000000</td>\n",
       "      <td>-0.063334</td>\n",
       "      <td>0.431659</td>\n",
       "      <td>0.705289</td>\n",
       "      <td>0.244938</td>\n",
       "      <td>0.015345</td>\n",
       "      <td>0.039848</td>\n",
       "      <td>-0.031026</td>\n",
       "      <td>0.539933</td>\n",
       "      <td>0.267469</td>\n",
       "      <td>0.011046</td>\n",
       "      <td>-0.181742</td>\n",
       "      <td>-0.011532</td>\n",
       "      <td>0.000223</td>\n",
       "      <td>0.059268</td>\n",
       "      <td>-0.008933</td>\n",
       "      <td>-0.011813</td>\n",
       "      <td>0.550135</td>\n",
       "    </tr>\n",
       "    <tr>\n",
       "      <th>original_language</th>\n",
       "      <td>-0.063334</td>\n",
       "      <td>1.000000</td>\n",
       "      <td>-0.048089</td>\n",
       "      <td>-0.054663</td>\n",
       "      <td>0.043685</td>\n",
       "      <td>0.002430</td>\n",
       "      <td>-0.007116</td>\n",
       "      <td>0.055271</td>\n",
       "      <td>-0.056833</td>\n",
       "      <td>0.040839</td>\n",
       "      <td>-0.010134</td>\n",
       "      <td>-0.014534</td>\n",
       "      <td>-0.163559</td>\n",
       "      <td>0.006829</td>\n",
       "      <td>-0.045619</td>\n",
       "      <td>0.005948</td>\n",
       "      <td>0.029065</td>\n",
       "      <td>-0.046615</td>\n",
       "    </tr>\n",
       "    <tr>\n",
       "      <th>popularity</th>\n",
       "      <td>0.431659</td>\n",
       "      <td>-0.048089</td>\n",
       "      <td>1.000000</td>\n",
       "      <td>0.602094</td>\n",
       "      <td>0.164768</td>\n",
       "      <td>0.013321</td>\n",
       "      <td>-0.001895</td>\n",
       "      <td>0.287272</td>\n",
       "      <td>0.748973</td>\n",
       "      <td>0.161560</td>\n",
       "      <td>0.011815</td>\n",
       "      <td>-0.028155</td>\n",
       "      <td>0.005916</td>\n",
       "      <td>0.002116</td>\n",
       "      <td>0.056938</td>\n",
       "      <td>0.015631</td>\n",
       "      <td>-0.031536</td>\n",
       "      <td>0.588089</td>\n",
       "    </tr>\n",
       "    <tr>\n",
       "      <th>revenue</th>\n",
       "      <td>0.705289</td>\n",
       "      <td>-0.054663</td>\n",
       "      <td>0.602094</td>\n",
       "      <td>1.000000</td>\n",
       "      <td>0.216023</td>\n",
       "      <td>0.011388</td>\n",
       "      <td>0.028139</td>\n",
       "      <td>0.188018</td>\n",
       "      <td>0.756130</td>\n",
       "      <td>0.147605</td>\n",
       "      <td>0.019027</td>\n",
       "      <td>-0.120444</td>\n",
       "      <td>0.047935</td>\n",
       "      <td>0.029664</td>\n",
       "      <td>0.067374</td>\n",
       "      <td>0.003643</td>\n",
       "      <td>-0.020746</td>\n",
       "      <td>0.980006</td>\n",
       "    </tr>\n",
       "    <tr>\n",
       "      <th>runtime</th>\n",
       "      <td>0.244938</td>\n",
       "      <td>0.043685</td>\n",
       "      <td>0.164768</td>\n",
       "      <td>0.216023</td>\n",
       "      <td>1.000000</td>\n",
       "      <td>-0.000444</td>\n",
       "      <td>0.048338</td>\n",
       "      <td>0.345407</td>\n",
       "      <td>0.245993</td>\n",
       "      <td>-0.065479</td>\n",
       "      <td>0.077740</td>\n",
       "      <td>0.012551</td>\n",
       "      <td>-0.031070</td>\n",
       "      <td>0.015673</td>\n",
       "      <td>-0.010427</td>\n",
       "      <td>-0.014451</td>\n",
       "      <td>0.017633</td>\n",
       "      <td>0.185720</td>\n",
       "    </tr>\n",
       "    <tr>\n",
       "      <th>status</th>\n",
       "      <td>0.015345</td>\n",
       "      <td>0.002430</td>\n",
       "      <td>0.013321</td>\n",
       "      <td>0.011388</td>\n",
       "      <td>-0.000444</td>\n",
       "      <td>1.000000</td>\n",
       "      <td>0.010063</td>\n",
       "      <td>0.020330</td>\n",
       "      <td>0.012003</td>\n",
       "      <td>-0.012359</td>\n",
       "      <td>-0.005697</td>\n",
       "      <td>-0.003642</td>\n",
       "      <td>-0.008851</td>\n",
       "      <td>-0.028145</td>\n",
       "      <td>-0.004622</td>\n",
       "      <td>0.018316</td>\n",
       "      <td>-0.027312</td>\n",
       "      <td>0.009107</td>\n",
       "    </tr>\n",
       "    <tr>\n",
       "      <th>title</th>\n",
       "      <td>0.039848</td>\n",
       "      <td>-0.007116</td>\n",
       "      <td>-0.001895</td>\n",
       "      <td>0.028139</td>\n",
       "      <td>0.048338</td>\n",
       "      <td>0.010063</td>\n",
       "      <td>1.000000</td>\n",
       "      <td>0.040780</td>\n",
       "      <td>0.021769</td>\n",
       "      <td>0.021935</td>\n",
       "      <td>0.022070</td>\n",
       "      <td>0.026211</td>\n",
       "      <td>-0.015536</td>\n",
       "      <td>-0.029816</td>\n",
       "      <td>0.002882</td>\n",
       "      <td>0.055797</td>\n",
       "      <td>-0.011246</td>\n",
       "      <td>0.021962</td>\n",
       "    </tr>\n",
       "    <tr>\n",
       "      <th>vote_average</th>\n",
       "      <td>-0.031026</td>\n",
       "      <td>0.055271</td>\n",
       "      <td>0.287272</td>\n",
       "      <td>0.188018</td>\n",
       "      <td>0.345407</td>\n",
       "      <td>0.020330</td>\n",
       "      <td>0.040780</td>\n",
       "      <td>1.000000</td>\n",
       "      <td>0.377934</td>\n",
       "      <td>-0.191401</td>\n",
       "      <td>0.083014</td>\n",
       "      <td>0.070730</td>\n",
       "      <td>-0.001005</td>\n",
       "      <td>0.012651</td>\n",
       "      <td>-0.016374</td>\n",
       "      <td>0.005601</td>\n",
       "      <td>-0.018211</td>\n",
       "      <td>0.230184</td>\n",
       "    </tr>\n",
       "    <tr>\n",
       "      <th>vote_count</th>\n",
       "      <td>0.539933</td>\n",
       "      <td>-0.056833</td>\n",
       "      <td>0.748973</td>\n",
       "      <td>0.756130</td>\n",
       "      <td>0.245993</td>\n",
       "      <td>0.012003</td>\n",
       "      <td>0.021769</td>\n",
       "      <td>0.377934</td>\n",
       "      <td>1.000000</td>\n",
       "      <td>0.173547</td>\n",
       "      <td>0.004424</td>\n",
       "      <td>-0.061536</td>\n",
       "      <td>0.024720</td>\n",
       "      <td>0.000438</td>\n",
       "      <td>0.046145</td>\n",
       "      <td>0.016736</td>\n",
       "      <td>-0.025828</td>\n",
       "      <td>0.739147</td>\n",
       "    </tr>\n",
       "    <tr>\n",
       "      <th>release_year</th>\n",
       "      <td>0.267469</td>\n",
       "      <td>0.040839</td>\n",
       "      <td>0.161560</td>\n",
       "      <td>0.147605</td>\n",
       "      <td>-0.065479</td>\n",
       "      <td>-0.012359</td>\n",
       "      <td>0.021935</td>\n",
       "      <td>-0.191401</td>\n",
       "      <td>0.173547</td>\n",
       "      <td>1.000000</td>\n",
       "      <td>-0.049395</td>\n",
       "      <td>-0.015397</td>\n",
       "      <td>-0.114685</td>\n",
       "      <td>-0.013084</td>\n",
       "      <td>-0.101917</td>\n",
       "      <td>0.017066</td>\n",
       "      <td>-0.022985</td>\n",
       "      <td>0.098803</td>\n",
       "    </tr>\n",
       "    <tr>\n",
       "      <th>release_month</th>\n",
       "      <td>0.011046</td>\n",
       "      <td>-0.010134</td>\n",
       "      <td>0.011815</td>\n",
       "      <td>0.019027</td>\n",
       "      <td>0.077740</td>\n",
       "      <td>-0.005697</td>\n",
       "      <td>0.022070</td>\n",
       "      <td>0.083014</td>\n",
       "      <td>0.004424</td>\n",
       "      <td>-0.049395</td>\n",
       "      <td>1.000000</td>\n",
       "      <td>0.038438</td>\n",
       "      <td>0.029043</td>\n",
       "      <td>0.020210</td>\n",
       "      <td>-0.005824</td>\n",
       "      <td>0.007501</td>\n",
       "      <td>0.003021</td>\n",
       "      <td>0.019313</td>\n",
       "    </tr>\n",
       "    <tr>\n",
       "      <th>genre_type</th>\n",
       "      <td>-0.181742</td>\n",
       "      <td>-0.014534</td>\n",
       "      <td>-0.028155</td>\n",
       "      <td>-0.120444</td>\n",
       "      <td>0.012551</td>\n",
       "      <td>-0.003642</td>\n",
       "      <td>0.026211</td>\n",
       "      <td>0.070730</td>\n",
       "      <td>-0.061536</td>\n",
       "      <td>-0.015397</td>\n",
       "      <td>0.038438</td>\n",
       "      <td>1.000000</td>\n",
       "      <td>0.025302</td>\n",
       "      <td>0.009117</td>\n",
       "      <td>-0.042489</td>\n",
       "      <td>-0.004170</td>\n",
       "      <td>0.013502</td>\n",
       "      <td>-0.090869</td>\n",
       "    </tr>\n",
       "    <tr>\n",
       "      <th>production_country</th>\n",
       "      <td>-0.011532</td>\n",
       "      <td>-0.163559</td>\n",
       "      <td>0.005916</td>\n",
       "      <td>0.047935</td>\n",
       "      <td>-0.031070</td>\n",
       "      <td>-0.008851</td>\n",
       "      <td>-0.015536</td>\n",
       "      <td>-0.001005</td>\n",
       "      <td>0.024720</td>\n",
       "      <td>-0.114685</td>\n",
       "      <td>0.029043</td>\n",
       "      <td>0.025302</td>\n",
       "      <td>1.000000</td>\n",
       "      <td>0.011371</td>\n",
       "      <td>0.012801</td>\n",
       "      <td>0.017817</td>\n",
       "      <td>-0.025490</td>\n",
       "      <td>0.059702</td>\n",
       "    </tr>\n",
       "    <tr>\n",
       "      <th>lead_name</th>\n",
       "      <td>0.000223</td>\n",
       "      <td>0.006829</td>\n",
       "      <td>0.002116</td>\n",
       "      <td>0.029664</td>\n",
       "      <td>0.015673</td>\n",
       "      <td>-0.028145</td>\n",
       "      <td>-0.029816</td>\n",
       "      <td>0.012651</td>\n",
       "      <td>0.000438</td>\n",
       "      <td>-0.013084</td>\n",
       "      <td>0.020210</td>\n",
       "      <td>0.009117</td>\n",
       "      <td>0.011371</td>\n",
       "      <td>1.000000</td>\n",
       "      <td>0.045814</td>\n",
       "      <td>-0.006961</td>\n",
       "      <td>0.039406</td>\n",
       "      <td>0.034881</td>\n",
       "    </tr>\n",
       "    <tr>\n",
       "      <th>production_company</th>\n",
       "      <td>0.059268</td>\n",
       "      <td>-0.045619</td>\n",
       "      <td>0.056938</td>\n",
       "      <td>0.067374</td>\n",
       "      <td>-0.010427</td>\n",
       "      <td>-0.004622</td>\n",
       "      <td>0.002882</td>\n",
       "      <td>-0.016374</td>\n",
       "      <td>0.046145</td>\n",
       "      <td>-0.101917</td>\n",
       "      <td>-0.005824</td>\n",
       "      <td>-0.042489</td>\n",
       "      <td>0.012801</td>\n",
       "      <td>0.045814</td>\n",
       "      <td>1.000000</td>\n",
       "      <td>-0.015710</td>\n",
       "      <td>0.007327</td>\n",
       "      <td>0.062729</td>\n",
       "    </tr>\n",
       "    <tr>\n",
       "      <th>lead_chrctr_name</th>\n",
       "      <td>-0.008933</td>\n",
       "      <td>0.005948</td>\n",
       "      <td>0.015631</td>\n",
       "      <td>0.003643</td>\n",
       "      <td>-0.014451</td>\n",
       "      <td>0.018316</td>\n",
       "      <td>0.055797</td>\n",
       "      <td>0.005601</td>\n",
       "      <td>0.016736</td>\n",
       "      <td>0.017066</td>\n",
       "      <td>0.007501</td>\n",
       "      <td>-0.004170</td>\n",
       "      <td>0.017817</td>\n",
       "      <td>-0.006961</td>\n",
       "      <td>-0.015710</td>\n",
       "      <td>1.000000</td>\n",
       "      <td>-0.029204</td>\n",
       "      <td>0.006798</td>\n",
       "    </tr>\n",
       "    <tr>\n",
       "      <th>directors</th>\n",
       "      <td>-0.011813</td>\n",
       "      <td>0.029065</td>\n",
       "      <td>-0.031536</td>\n",
       "      <td>-0.020746</td>\n",
       "      <td>0.017633</td>\n",
       "      <td>-0.027312</td>\n",
       "      <td>-0.011246</td>\n",
       "      <td>-0.018211</td>\n",
       "      <td>-0.025828</td>\n",
       "      <td>-0.022985</td>\n",
       "      <td>0.003021</td>\n",
       "      <td>0.013502</td>\n",
       "      <td>-0.025490</td>\n",
       "      <td>0.039406</td>\n",
       "      <td>0.007327</td>\n",
       "      <td>-0.029204</td>\n",
       "      <td>1.000000</td>\n",
       "      <td>-0.021123</td>\n",
       "    </tr>\n",
       "    <tr>\n",
       "      <th>profit</th>\n",
       "      <td>0.550135</td>\n",
       "      <td>-0.046615</td>\n",
       "      <td>0.588089</td>\n",
       "      <td>0.980006</td>\n",
       "      <td>0.185720</td>\n",
       "      <td>0.009107</td>\n",
       "      <td>0.021962</td>\n",
       "      <td>0.230184</td>\n",
       "      <td>0.739147</td>\n",
       "      <td>0.098803</td>\n",
       "      <td>0.019313</td>\n",
       "      <td>-0.090869</td>\n",
       "      <td>0.059702</td>\n",
       "      <td>0.034881</td>\n",
       "      <td>0.062729</td>\n",
       "      <td>0.006798</td>\n",
       "      <td>-0.021123</td>\n",
       "      <td>1.000000</td>\n",
       "    </tr>\n",
       "  </tbody>\n",
       "</table>\n",
       "</div>"
      ],
      "text/plain": [
       "                      budget  original_language  popularity   revenue  \\\n",
       "budget              1.000000          -0.063334    0.431659  0.705289   \n",
       "original_language  -0.063334           1.000000   -0.048089 -0.054663   \n",
       "popularity          0.431659          -0.048089    1.000000  0.602094   \n",
       "revenue             0.705289          -0.054663    0.602094  1.000000   \n",
       "runtime             0.244938           0.043685    0.164768  0.216023   \n",
       "status              0.015345           0.002430    0.013321  0.011388   \n",
       "title               0.039848          -0.007116   -0.001895  0.028139   \n",
       "vote_average       -0.031026           0.055271    0.287272  0.188018   \n",
       "vote_count          0.539933          -0.056833    0.748973  0.756130   \n",
       "release_year        0.267469           0.040839    0.161560  0.147605   \n",
       "release_month       0.011046          -0.010134    0.011815  0.019027   \n",
       "genre_type         -0.181742          -0.014534   -0.028155 -0.120444   \n",
       "production_country -0.011532          -0.163559    0.005916  0.047935   \n",
       "lead_name           0.000223           0.006829    0.002116  0.029664   \n",
       "production_company  0.059268          -0.045619    0.056938  0.067374   \n",
       "lead_chrctr_name   -0.008933           0.005948    0.015631  0.003643   \n",
       "directors          -0.011813           0.029065   -0.031536 -0.020746   \n",
       "profit              0.550135          -0.046615    0.588089  0.980006   \n",
       "\n",
       "                     runtime    status     title  vote_average  vote_count  \\\n",
       "budget              0.244938  0.015345  0.039848     -0.031026    0.539933   \n",
       "original_language   0.043685  0.002430 -0.007116      0.055271   -0.056833   \n",
       "popularity          0.164768  0.013321 -0.001895      0.287272    0.748973   \n",
       "revenue             0.216023  0.011388  0.028139      0.188018    0.756130   \n",
       "runtime             1.000000 -0.000444  0.048338      0.345407    0.245993   \n",
       "status             -0.000444  1.000000  0.010063      0.020330    0.012003   \n",
       "title               0.048338  0.010063  1.000000      0.040780    0.021769   \n",
       "vote_average        0.345407  0.020330  0.040780      1.000000    0.377934   \n",
       "vote_count          0.245993  0.012003  0.021769      0.377934    1.000000   \n",
       "release_year       -0.065479 -0.012359  0.021935     -0.191401    0.173547   \n",
       "release_month       0.077740 -0.005697  0.022070      0.083014    0.004424   \n",
       "genre_type          0.012551 -0.003642  0.026211      0.070730   -0.061536   \n",
       "production_country -0.031070 -0.008851 -0.015536     -0.001005    0.024720   \n",
       "lead_name           0.015673 -0.028145 -0.029816      0.012651    0.000438   \n",
       "production_company -0.010427 -0.004622  0.002882     -0.016374    0.046145   \n",
       "lead_chrctr_name   -0.014451  0.018316  0.055797      0.005601    0.016736   \n",
       "directors           0.017633 -0.027312 -0.011246     -0.018211   -0.025828   \n",
       "profit              0.185720  0.009107  0.021962      0.230184    0.739147   \n",
       "\n",
       "                    release_year  release_month  genre_type  \\\n",
       "budget                  0.267469       0.011046   -0.181742   \n",
       "original_language       0.040839      -0.010134   -0.014534   \n",
       "popularity              0.161560       0.011815   -0.028155   \n",
       "revenue                 0.147605       0.019027   -0.120444   \n",
       "runtime                -0.065479       0.077740    0.012551   \n",
       "status                 -0.012359      -0.005697   -0.003642   \n",
       "title                   0.021935       0.022070    0.026211   \n",
       "vote_average           -0.191401       0.083014    0.070730   \n",
       "vote_count              0.173547       0.004424   -0.061536   \n",
       "release_year            1.000000      -0.049395   -0.015397   \n",
       "release_month          -0.049395       1.000000    0.038438   \n",
       "genre_type             -0.015397       0.038438    1.000000   \n",
       "production_country     -0.114685       0.029043    0.025302   \n",
       "lead_name              -0.013084       0.020210    0.009117   \n",
       "production_company     -0.101917      -0.005824   -0.042489   \n",
       "lead_chrctr_name        0.017066       0.007501   -0.004170   \n",
       "directors              -0.022985       0.003021    0.013502   \n",
       "profit                  0.098803       0.019313   -0.090869   \n",
       "\n",
       "                    production_country  lead_name  production_company  \\\n",
       "budget                       -0.011532   0.000223            0.059268   \n",
       "original_language            -0.163559   0.006829           -0.045619   \n",
       "popularity                    0.005916   0.002116            0.056938   \n",
       "revenue                       0.047935   0.029664            0.067374   \n",
       "runtime                      -0.031070   0.015673           -0.010427   \n",
       "status                       -0.008851  -0.028145           -0.004622   \n",
       "title                        -0.015536  -0.029816            0.002882   \n",
       "vote_average                 -0.001005   0.012651           -0.016374   \n",
       "vote_count                    0.024720   0.000438            0.046145   \n",
       "release_year                 -0.114685  -0.013084           -0.101917   \n",
       "release_month                 0.029043   0.020210           -0.005824   \n",
       "genre_type                    0.025302   0.009117           -0.042489   \n",
       "production_country            1.000000   0.011371            0.012801   \n",
       "lead_name                     0.011371   1.000000            0.045814   \n",
       "production_company            0.012801   0.045814            1.000000   \n",
       "lead_chrctr_name              0.017817  -0.006961           -0.015710   \n",
       "directors                    -0.025490   0.039406            0.007327   \n",
       "profit                        0.059702   0.034881            0.062729   \n",
       "\n",
       "                    lead_chrctr_name  directors    profit  \n",
       "budget                     -0.008933  -0.011813  0.550135  \n",
       "original_language           0.005948   0.029065 -0.046615  \n",
       "popularity                  0.015631  -0.031536  0.588089  \n",
       "revenue                     0.003643  -0.020746  0.980006  \n",
       "runtime                    -0.014451   0.017633  0.185720  \n",
       "status                      0.018316  -0.027312  0.009107  \n",
       "title                       0.055797  -0.011246  0.021962  \n",
       "vote_average                0.005601  -0.018211  0.230184  \n",
       "vote_count                  0.016736  -0.025828  0.739147  \n",
       "release_year                0.017066  -0.022985  0.098803  \n",
       "release_month               0.007501   0.003021  0.019313  \n",
       "genre_type                 -0.004170   0.013502 -0.090869  \n",
       "production_country          0.017817  -0.025490  0.059702  \n",
       "lead_name                  -0.006961   0.039406  0.034881  \n",
       "production_company         -0.015710   0.007327  0.062729  \n",
       "lead_chrctr_name            1.000000  -0.029204  0.006798  \n",
       "directors                  -0.029204   1.000000 -0.021123  \n",
       "profit                      0.006798  -0.021123  1.000000  "
      ]
     },
     "execution_count": 14,
     "metadata": {},
     "output_type": "execute_result"
    }
   ],
   "source": [
    "corel_matrix = scale_df.corr()\n",
    "corel_matrix"
   ]
  },
  {
   "cell_type": "code",
   "execution_count": 15,
   "id": "cffa0f49",
   "metadata": {},
   "outputs": [
    {
     "data": {
      "image/png": "[encoded data removed]",
      "text/plain": [
       "<Figure size 1500x1000 with 2 Axes>"
      ]
     },
     "metadata": {},
     "output_type": "display_data"
    }
   ],
   "source": [
    "plt.figure(figsize=(15,10))\n",
    "sns.heatmap(corel_matrix, annot = True, cmap = 'Oranges')\n",
    "plt.show()"
   ]
  },
  {
   "cell_type": "code",
   "execution_count": 16,
   "id": "9e8c025f",
   "metadata": {},
   "outputs": [],
   "source": [
    "def correlation(df,threshold):\n",
    "    col_corr=set()\n",
    "    corel_matrix=df.corr()\n",
    "    for i in range(len(corel_matrix.columns)):\n",
    "        for j in range(i):\n",
    "            if(abs(corel_matrix.iloc[i,j]))>threshold:\n",
    "                col_name=corel_matrix.columns[i]\n",
    "                col_corr.add(col_name)\n",
    "    return col_corr"
   ]
  },
  {
   "cell_type": "code",
   "execution_count": 17,
   "id": "12fa770d",
   "metadata": {},
   "outputs": [
    {
     "data": {
      "text/plain": [
       "3"
      ]
     },
     "execution_count": 17,
     "metadata": {},
     "output_type": "execute_result"
    }
   ],
   "source": [
    "sel_features=correlation(scale_df,0.5)\n",
    "len(set(sel_features))"
   ]
  },
  {
   "cell_type": "code",
   "execution_count": 18,
   "id": "c30acd69",
   "metadata": {},
   "outputs": [
    {
     "data": {
      "text/plain": [
       "{'profit', 'revenue', 'vote_count'}"
      ]
     },
     "execution_count": 18,
     "metadata": {},
     "output_type": "execute_result"
    }
   ],
   "source": [
    "sel_features"
   ]
  },
  {
   "cell_type": "markdown",
   "id": "31aa9969",
   "metadata": {},
   "source": [
    "balancing the data:"
   ]
  },
  {
   "cell_type": "code",
   "execution_count": 19,
   "id": "abba7d9c",
   "metadata": {},
   "outputs": [],
   "source": [
    "from imblearn.over_sampling import SMOTE"
   ]
  },
  {
   "cell_type": "code",
   "execution_count": 20,
   "id": "2bb8b985",
   "metadata": {},
   "outputs": [],
   "source": [
    "x = scale_df.drop(['profit','revenue', 'genre_type'], axis = 1)\n",
    "y = movie_df['genre_type']"
   ]
  },
  {
   "cell_type": "code",
   "execution_count": 21,
   "id": "e8fdb7b5",
   "metadata": {},
   "outputs": [
    {
     "name": "stdout",
     "output_type": "stream",
     "text": [
      "(9412, 15)\n",
      "(9412,)\n"
     ]
    }
   ],
   "source": [
    "os  = SMOTE()\n",
    "x1, y1 = os.fit_resample(x,y)\n",
    "X1_train, X1_test, y1_train, y1_test = train_test_split(x1,y1, test_size=0.3, random_state=42)\n",
    "print(X1_train.shape)\n",
    "print(y1_train.shape)"
   ]
  },
  {
   "cell_type": "markdown",
   "id": "892ad435",
   "metadata": {},
   "source": [
    "### Logistic Regression"
   ]
  },
  {
   "cell_type": "code",
   "execution_count": 22,
   "id": "8a9317e9",
   "metadata": {},
   "outputs": [],
   "source": [
    "lr_bal_model=LogisticRegression().fit(X1_train,y1_train)\n"
   ]
  },
  {
   "cell_type": "code",
   "execution_count": 23,
   "id": "d6aa2f4a",
   "metadata": {},
   "outputs": [
    {
     "data": {
      "text/plain": [
       "array([15,  8,  4, ...,  7,  0,  3])"
      ]
     },
     "execution_count": 23,
     "metadata": {},
     "output_type": "execute_result"
    }
   ],
   "source": [
    "y_pred_lrbal=lr_bal_model.predict(X1_test)\n",
    "y_pred_lrbal"
   ]
  },
  {
   "cell_type": "code",
   "execution_count": 24,
   "id": "e5ed8676",
   "metadata": {},
   "outputs": [],
   "source": [
    "log_prob_bal = lr_bal_model.predict_proba(X1_test)\n",
    "log_prob_bal = log_prob_bal[:,1]\n",
    "r_prob_bal = [0 for _ in range(len(y1_test))]"
   ]
  },
  {
   "cell_type": "code",
   "execution_count": 25,
   "id": "e2238327",
   "metadata": {},
   "outputs": [],
   "source": [
    "train_accrcy_score = []\n",
    "test_accrcy_score = []\n",
    "test_f1_score = []\n",
    "auc_roc = []\n",
    "recall = []\n",
    "precision = []"
   ]
  },
  {
   "cell_type": "code",
   "execution_count": 26,
   "id": "54672bd2",
   "metadata": {},
   "outputs": [
    {
     "name": "stdout",
     "output_type": "stream",
     "text": [
      "train_acc_score 0.3383977900552486\n",
      "test_acc_score 0.3165592464055528\n"
     ]
    }
   ],
   "source": [
    "lr_bal_actrain = lr_bal_model.score(X1_train, y1_train)\n",
    "lr_bal_actest = lr_bal_model.score(X1_test, y1_test)\n",
    "\n",
    "print(\"train_acc_score\", lr_bal_actrain)\n",
    "train_accrcy_score.append(lr_bal_actrain)\n",
    "\n",
    "print(\"test_acc_score\", lr_bal_actest)\n",
    "test_accrcy_score.append(lr_bal_actest)"
   ]
  },
  {
   "cell_type": "code",
   "execution_count": 27,
   "id": "b9d52a8e",
   "metadata": {},
   "outputs": [
    {
     "name": "stdout",
     "output_type": "stream",
     "text": [
      "f1_test_score 0.3165592464055528\n"
     ]
    }
   ],
   "source": [
    "f1_test_lrbal = f1_score(y1_test, y_pred_lrbal, average='micro')\n",
    "test_f1_score.append(f1_test_lrbal)\n",
    "\n",
    "print(\"f1_test_score\", f1_test_lrbal)"
   ]
  },
  {
   "cell_type": "code",
   "execution_count": 28,
   "id": "4244b5c7",
   "metadata": {},
   "outputs": [
    {
     "name": "stdout",
     "output_type": "stream",
     "text": [
      "Model precision_score : 0.3165592464055528\n"
     ]
    }
   ],
   "source": [
    "lr_precision = precision_score(y1_test,y_pred_lrbal, average = 'micro')\n",
    "precision.append(lr_precision)\n",
    "print(\"Model precision_score :\",lr_precision)"
   ]
  },
  {
   "cell_type": "code",
   "execution_count": 29,
   "id": "ef20f948",
   "metadata": {},
   "outputs": [
    {
     "name": "stdout",
     "output_type": "stream",
     "text": [
      "Model recall_score : 0.3165592464055528\n"
     ]
    }
   ],
   "source": [
    "lr_recall=recall_score(y1_test,y_pred_lrbal,average = 'micro')\n",
    "recall.append(lr_recall)\n",
    "print(\"Model recall_score :\",lr_recall)"
   ]
  },
  {
   "cell_type": "code",
   "execution_count": 30,
   "id": "50323b70",
   "metadata": {},
   "outputs": [
    {
     "name": "stdout",
     "output_type": "stream",
     "text": [
      "[[ 18  30  10   9   1   2   4  11   9   4  21  11  12  12  25  16  18   6]\n",
      " [ 10  41  32  10   3   1   0  11  17  11   9  15   4   1  27   4  12  21]\n",
      " [  5   5 154   2   0   2   0  38   6   0   0   1   3   3   9   3   1   3]\n",
      " [  4   1   9  20   8  22   1  15   2   6  32  19   9  11  17  22   8   4]\n",
      " [  4   3   4  18  28  16   6   1   0  12   8  18  17  11   3  26  21  13]\n",
      " [  0   0   0   0   6 190   2   0   0   5   7   2   0   0   0   6   0   0]\n",
      " [  5   4   3   9  11  24  13   1   2  29   7  23   9   7   9  22  26  22]\n",
      " [  0   8  52  25   0   0   2  69   7   0  12  23   8  23   1   2   0   2]\n",
      " [ 20   7  18  10   6   0   5  22  26   7   9  14  14   8  32  10   3   3]\n",
      " [  0   0   0   0   7  16   8   0   5  75   3  13   4   0   0  14  33  23]\n",
      " [  5   3   2  13   8   7   1   4   7   1 122  14  19   3   5  11   2   7]\n",
      " [  0   4   0  25   2  13   0   2   0  33   1 115  10  12   0   2   3  24]\n",
      " [  6   3  18  16   9   0   5  15  10   2  32   8  62   0   8  12  21   0]\n",
      " [  6   0   3  21  22  33   8   7   1  19  22  17  16  17   7  21  10   0]\n",
      " [ 14  31   0   5   5   2   2  12   6  19  17   3  24   6  71   8   1   9]\n",
      " [  5   8   3  10  23   7   2   3   5  18  30   2  16   8  14  53  13   1]\n",
      " [  3   2   0   1   4   0  15   0   2  40   0  14   2   5  11  27  64  23]\n",
      " [  0   8   4   0   0   0   5   1   1  26   7  16   0   0   1   1  24 139]]\n"
     ]
    }
   ],
   "source": [
    "print(confusion_matrix(y1_test,y_pred_lrbal))"
   ]
  },
  {
   "cell_type": "code",
   "execution_count": 31,
   "id": "cac431c7",
   "metadata": {},
   "outputs": [
    {
     "name": "stdout",
     "output_type": "stream",
     "text": [
      "              precision    recall  f1-score   support\n",
      "\n",
      "           0       0.17      0.08      0.11       219\n",
      "           1       0.26      0.18      0.21       229\n",
      "           2       0.49      0.66      0.56       235\n",
      "           3       0.10      0.10      0.10       210\n",
      "           4       0.20      0.13      0.16       209\n",
      "           5       0.57      0.87      0.69       218\n",
      "           6       0.16      0.06      0.09       226\n",
      "           7       0.33      0.29      0.31       234\n",
      "           8       0.25      0.12      0.16       214\n",
      "          10       0.24      0.37      0.30       201\n",
      "          11       0.36      0.52      0.43       234\n",
      "          12       0.35      0.47      0.40       246\n",
      "          13       0.27      0.27      0.27       227\n",
      "          14       0.13      0.07      0.10       230\n",
      "          15       0.30      0.30      0.30       235\n",
      "          16       0.20      0.24      0.22       221\n",
      "          17       0.25      0.30      0.27       213\n",
      "          18       0.46      0.60      0.52       233\n",
      "\n",
      "    accuracy                           0.32      4034\n",
      "   macro avg       0.28      0.31      0.29      4034\n",
      "weighted avg       0.29      0.32      0.29      4034\n",
      "\n"
     ]
    }
   ],
   "source": [
    "print(classification_report(y1_test,y_pred_lrbal))\n"
   ]
  },
  {
   "cell_type": "markdown",
   "id": "86e2f60a",
   "metadata": {},
   "source": [
    "### Naive Bayes"
   ]
  },
  {
   "cell_type": "code",
   "execution_count": 32,
   "id": "326f897f",
   "metadata": {},
   "outputs": [],
   "source": [
    "gn_bal_model=GaussianNB().fit(X1_train,y1_train)\n",
    "y_pred_gnbal=gn_bal_model.predict(X1_test)"
   ]
  },
  {
   "cell_type": "code",
   "execution_count": 33,
   "id": "80bae5bd",
   "metadata": {},
   "outputs": [
    {
     "name": "stdout",
     "output_type": "stream",
     "text": [
      "br_train_acc_score 0.14768380790480237\n",
      "br_test_acc_score 0.15642042637580567\n"
     ]
    }
   ],
   "source": [
    "gn_bal_actrain = gn_bal_model.score(X1_train, y1_train)\n",
    "gn_bal_actest = gn_bal_model.score(X1_test, y1_test)\n",
    "\n",
    "print(\"br_train_acc_score\", gn_bal_actrain)\n",
    "train_accrcy_score.append(gn_bal_actrain)\n",
    "print(\"br_test_acc_score\", gn_bal_actest)\n",
    "test_accrcy_score.append(gn_bal_actest)"
   ]
  },
  {
   "cell_type": "code",
   "execution_count": 34,
   "id": "3e969dd7",
   "metadata": {},
   "outputs": [
    {
     "name": "stdout",
     "output_type": "stream",
     "text": [
      "f1_test_score 0.15642042637580567\n"
     ]
    }
   ],
   "source": [
    "f1_test_gnbal = f1_score(y1_test, y_pred_gnbal, average='micro')\n",
    "test_f1_score.append(f1_test_gnbal)\n",
    "\n",
    "print(\"f1_test_score\", f1_test_gnbal)"
   ]
  },
  {
   "cell_type": "code",
   "execution_count": 35,
   "id": "fbdfc878",
   "metadata": {},
   "outputs": [
    {
     "name": "stdout",
     "output_type": "stream",
     "text": [
      "Model precision_score : 0.15642042637580567\n"
     ]
    }
   ],
   "source": [
    "gn_precision = precision_score(y1_test,y_pred_gnbal,average='micro')\n",
    "precision.append(gn_precision)\n",
    "print(\"Model precision_score :\",gn_precision)"
   ]
  },
  {
   "cell_type": "code",
   "execution_count": 36,
   "id": "da64d5df",
   "metadata": {},
   "outputs": [
    {
     "name": "stdout",
     "output_type": "stream",
     "text": [
      "Model recall_score : 0.15642042637580567\n"
     ]
    }
   ],
   "source": [
    "gn_recall=recall_score(y1_test,y_pred_gnbal, average='micro')\n",
    "recall.append(gn_recall)\n",
    "print(\"Model recall_score :\",gn_recall)"
   ]
  },
  {
   "cell_type": "code",
   "execution_count": 37,
   "id": "c0e25fc4",
   "metadata": {},
   "outputs": [
    {
     "name": "stdout",
     "output_type": "stream",
     "text": [
      "[[  1  20   0   1   0   0   0   2   8   2   1  37  89   0   1   0  57   0]\n",
      " [  1  24   3   1   0   1   0   1  12   0   1  52  56   0   6   0  71   0]\n",
      " [  1   4  18   0   0   0   0   1   5   3   3  28 117   0  21   3  31   0]\n",
      " [  0   0   1   1   1   2   0   0   0   2   0  78  99   0   0   0  26   0]\n",
      " [  0   0   0   1   2   1   0   0   4   2   0  90  53   1   1   0  54   0]\n",
      " [  0   0   0   0   0  22   0   0   2   2   0 123  52   0   0   0  17   0]\n",
      " [  0   6   0   0   2   1   0   0   4   0   1  91  43   0   4   0  74   0]\n",
      " [  0   0   4   0   0   0   0   6   8   0   0  58 103   0  15   0  40   0]\n",
      " [  2   5   6   0   0   0   0   0  15   2   1  33  99   0   3   0  48   0]\n",
      " [  0   0   0   1   0   0   0   0   1  11   0  87  13   0   3   0  85   0]\n",
      " [  0   0   0   0   0   0   0   0   2   0   1  90 122   0   2   1  16   0]\n",
      " [  0   0   0   0   0   0   0   0   0   0   0 217  14   0   0   0  15   0]\n",
      " [  0   2   0   0   0   0   0   0   0   0   0  67 145   0   1   0  12   0]\n",
      " [  0   0   0   0   1   2   0   0   1   0   2  99  82   3   0   0  40   0]\n",
      " [  0  10   0   0   1   0   0   0   3   1   2  58  67   1  29   2  59   2]\n",
      " [  0   1   0   0   0   1   0   0   0   1   2  54 105   0   5   0  52   0]\n",
      " [  0   2   0   0   0   0   0   0   0   0   0  78  26   0   0   0 107   0]\n",
      " [  0   3   0   1   0   0   0   0   0   0   0 135   7   0   0   0  58  29]]\n"
     ]
    }
   ],
   "source": [
    "print(confusion_matrix(y1_test,y_pred_gnbal))"
   ]
  },
  {
   "cell_type": "code",
   "execution_count": 38,
   "id": "bc4bf965",
   "metadata": {},
   "outputs": [
    {
     "name": "stdout",
     "output_type": "stream",
     "text": [
      "              precision    recall  f1-score   support\n",
      "\n",
      "           0       0.20      0.00      0.01       219\n",
      "           1       0.31      0.10      0.16       229\n",
      "           2       0.56      0.08      0.13       235\n",
      "           3       0.17      0.00      0.01       210\n",
      "           4       0.29      0.01      0.02       209\n",
      "           5       0.73      0.10      0.18       218\n",
      "           6       0.00      0.00      0.00       226\n",
      "           7       0.60      0.03      0.05       234\n",
      "           8       0.23      0.07      0.11       214\n",
      "          10       0.42      0.05      0.10       201\n",
      "          11       0.07      0.00      0.01       234\n",
      "          12       0.15      0.88      0.25       246\n",
      "          13       0.11      0.64      0.19       227\n",
      "          14       0.60      0.01      0.03       230\n",
      "          15       0.32      0.12      0.18       235\n",
      "          16       0.00      0.00      0.00       221\n",
      "          17       0.12      0.50      0.20       213\n",
      "          18       0.94      0.12      0.22       233\n",
      "\n",
      "    accuracy                           0.16      4034\n",
      "   macro avg       0.32      0.15      0.10      4034\n",
      "weighted avg       0.33      0.16      0.10      4034\n",
      "\n"
     ]
    }
   ],
   "source": [
    "print(classification_report(y1_test,y_pred_gnbal))"
   ]
  },
  {
   "cell_type": "markdown",
   "id": "ea8894dc",
   "metadata": {},
   "source": [
    "### Decision Tree Classifier"
   ]
  },
  {
   "cell_type": "code",
   "execution_count": 7,
   "id": "ba384cda",
   "metadata": {},
   "outputs": [],
   "source": [
    "kf=KFold(n_splits=5, shuffle=True, random_state=42)"
   ]
  },
  {
   "cell_type": "code",
   "execution_count": 39,
   "id": "4d5a0ddc",
   "metadata": {},
   "outputs": [],
   "source": [
    "dt = DecisionTreeClassifier()"
   ]
  },
  {
   "cell_type": "code",
   "execution_count": 40,
   "id": "9815567a",
   "metadata": {},
   "outputs": [],
   "source": [
    "param_grid_dtbal={\"min_samples_split\":np.arange(10,51,10),\n",
    "            \"min_samples_leaf\":np.arange(10,101,20),\n",
    "            \"max_depth\":np.arange(3,15)\n",
    "}"
   ]
  },
  {
   "cell_type": "code",
   "execution_count": 41,
   "id": "314e7919",
   "metadata": {},
   "outputs": [],
   "source": [
    "grid_cv_dtbal = GridSearchCV(dt,param_grid_dtbal,cv=kf,scoring=\"precision\") #remove scoring\n"
   ]
  },
  {
   "cell_type": "code",
   "execution_count": 42,
   "id": "32342fc4",
   "metadata": {},
   "outputs": [
    {
     "data": {
      "text/plain": [
       "GridSearchCV(cv=KFold(n_splits=5, random_state=42, shuffle=True),\n",
       "             estimator=DecisionTreeClassifier(),\n",
       "             param_grid={'max_depth': array([ 3,  4,  5,  6,  7,  8,  9, 10, 11, 12, 13, 14]),\n",
       "                         'min_samples_leaf': array([10, 30, 50, 70, 90]),\n",
       "                         'min_samples_split': array([10, 20, 30, 40, 50])},\n",
       "             scoring='precision')"
      ]
     },
     "execution_count": 42,
     "metadata": {},
     "output_type": "execute_result"
    }
   ],
   "source": [
    "grid_cv_dtbal.fit(X1_train,y1_train)"
   ]
  },
  {
   "cell_type": "code",
   "execution_count": 43,
   "id": "07ebe664",
   "metadata": {},
   "outputs": [
    {
     "data": {
      "text/plain": [
       "nan"
      ]
     },
     "execution_count": 43,
     "metadata": {},
     "output_type": "execute_result"
    }
   ],
   "source": [
    "grid_cv_dtbal.best_score_"
   ]
  },
  {
   "cell_type": "code",
   "execution_count": 44,
   "id": "2a39fcfb",
   "metadata": {},
   "outputs": [
    {
     "data": {
      "text/plain": [
       "DecisionTreeClassifier(max_depth=3, min_samples_leaf=10, min_samples_split=10)"
      ]
     },
     "execution_count": 44,
     "metadata": {},
     "output_type": "execute_result"
    }
   ],
   "source": [
    "grid_cv_dtbal.best_estimator_"
   ]
  },
  {
   "cell_type": "code",
   "execution_count": 39,
   "id": "7a9e40a0",
   "metadata": {},
   "outputs": [
    {
     "data": {
      "text/plain": [
       "DecisionTreeClassifier(max_depth=3, min_samples_leaf=10, min_samples_split=10)"
      ]
     },
     "execution_count": 39,
     "metadata": {},
     "output_type": "execute_result"
    }
   ],
   "source": [
    "dt_bal_model = DecisionTreeClassifier(max_depth=3, min_samples_leaf=10, min_samples_split=10)\n",
    "dt_bal_model.fit(x1,y1)"
   ]
  },
  {
   "cell_type": "code",
   "execution_count": 40,
   "id": "e4d8eec2",
   "metadata": {},
   "outputs": [
    {
     "name": "stdout",
     "output_type": "stream",
     "text": [
      "dt_train_acc_score 0.21653208669783255\n",
      "dt_test_acc_score 0.21789786812097173\n"
     ]
    }
   ],
   "source": [
    "dt_bal_actrain = dt_bal_model.score(X1_train, y1_train)\n",
    "dt_bal_actest = dt_bal_model.score(X1_test, y1_test)\n",
    "\n",
    "print(\"dt_train_acc_score\", dt_bal_actrain)\n",
    "train_accrcy_score.append(dt_bal_actrain)\n",
    "print(\"dt_test_acc_score\", dt_bal_actest)\n",
    "test_accrcy_score.append(dt_bal_actest)"
   ]
  },
  {
   "cell_type": "code",
   "execution_count": 41,
   "id": "90910f21",
   "metadata": {},
   "outputs": [],
   "source": [
    "y_pred_dtbal=dt_bal_model.predict(X1_test)"
   ]
  },
  {
   "cell_type": "code",
   "execution_count": 42,
   "id": "992a6c1e",
   "metadata": {},
   "outputs": [
    {
     "name": "stdout",
     "output_type": "stream",
     "text": [
      "f1_test_score 0.21789786812097173\n"
     ]
    }
   ],
   "source": [
    "f1_test_dtbal = f1_score(y1_test, y_pred_dtbal,average='micro')\n",
    "test_f1_score.append(f1_test_dtbal)\n",
    "\n",
    "print(\"f1_test_score\", f1_test_dtbal)"
   ]
  },
  {
   "cell_type": "code",
   "execution_count": 43,
   "id": "86fdd8d3",
   "metadata": {},
   "outputs": [
    {
     "name": "stdout",
     "output_type": "stream",
     "text": [
      "Model precision_score : 0.21789786812097173\n"
     ]
    }
   ],
   "source": [
    "dt_precision = precision_score(y1_test,y_pred_dtbal,average='micro')\n",
    "precision.append(dt_precision)\n",
    "print(\"Model precision_score :\",dt_precision)"
   ]
  },
  {
   "cell_type": "code",
   "execution_count": 44,
   "id": "e99e1e26",
   "metadata": {},
   "outputs": [
    {
     "name": "stdout",
     "output_type": "stream",
     "text": [
      "Model recall_score : 0.21789786812097173\n"
     ]
    }
   ],
   "source": [
    "dt_recall=recall_score(y1_test,y_pred_dtbal,average='micro')\n",
    "recall.append(dt_recall)\n",
    "print(\"Model recall_score :\",dt_recall)"
   ]
  },
  {
   "cell_type": "code",
   "execution_count": 45,
   "id": "03a60256",
   "metadata": {},
   "outputs": [
    {
     "name": "stdout",
     "output_type": "stream",
     "text": [
      "[[  0   0  15   0   0   2   0   0   0   0   5   4  65   0  47   0  76   5]\n",
      " [  0   0  35   0   0   1   0   0   0   0   2   3  49   0  61   0  69   9]\n",
      " [  0   0 155   0   0   0   0   0   0   0   0   0  66   0   6   0   4   4]\n",
      " [  0   0  11   0   0  16   0   0   0   0  13   2 105   0   8   0  52   3]\n",
      " [  0   0   7   0   0   8   0   0   0   0  13   0  60   0  21   0  96   4]\n",
      " [  0   0   0   0   0 128   0   0   0   0  36   0  42   0   0   0  12   0]\n",
      " [  0   0   1   0   0  13   0   0   0   0  12   6  41   0  22   0 120  11]\n",
      " [  0   0  74   0   0   1   0   0   0   0   3   0 133   0   6   0  16   1]\n",
      " [  0   0  37   0   0   0   0   0   0   0   6   0  97   0  32   0  42   0]\n",
      " [  0   0   1   0   0   6   0   0   0   0   0   9  11   0   8   0 156  10]\n",
      " [  0   0   0   0   0   5   0   0   0   0  67   1 129   0  13   0  18   1]\n",
      " [  0   0   0   0   0   6   0   0   0   0   0  16 141   0   0   0  81   2]\n",
      " [  0   0  15   0   0   0   0   0   0   0  10   0 141   0  16   0  43   2]\n",
      " [  0   0   3   0   0   7   0   0   0   0  13   0 100   0  18   0  89   0]\n",
      " [  0   0  27   0   0   0   0   0   0   0  10   0  55   0  74   0  69   0]\n",
      " [  0   0   8   0   0   5   0   0   0   0  16   0  69   0  29   0  94   0]\n",
      " [  0   0   0   0   0   0   0   0   0   0   0   0  11   0  17   0 174  11]\n",
      " [  0   0   6   0   0   0   0   0   0   0   0   6  23   0  11   0  63 124]]\n"
     ]
    }
   ],
   "source": [
    "print(confusion_matrix(y1_test,y_pred_dtbal))"
   ]
  },
  {
   "cell_type": "code",
   "execution_count": 46,
   "id": "10849651",
   "metadata": {},
   "outputs": [
    {
     "name": "stdout",
     "output_type": "stream",
     "text": [
      "              precision    recall  f1-score   support\n",
      "\n",
      "           0       0.00      0.00      0.00       219\n",
      "           1       0.00      0.00      0.00       229\n",
      "           2       0.39      0.66      0.49       235\n",
      "           3       0.00      0.00      0.00       210\n",
      "           4       0.00      0.00      0.00       209\n",
      "           5       0.65      0.59      0.62       218\n",
      "           6       0.00      0.00      0.00       226\n",
      "           7       0.00      0.00      0.00       234\n",
      "           8       0.00      0.00      0.00       214\n",
      "          10       0.00      0.00      0.00       201\n",
      "          11       0.33      0.29      0.30       234\n",
      "          12       0.34      0.07      0.11       246\n",
      "          13       0.11      0.62      0.18       227\n",
      "          14       0.00      0.00      0.00       230\n",
      "          15       0.19      0.31      0.24       235\n",
      "          16       0.00      0.00      0.00       221\n",
      "          17       0.14      0.82      0.23       213\n",
      "          18       0.66      0.53      0.59       233\n",
      "\n",
      "    accuracy                           0.22      4034\n",
      "   macro avg       0.16      0.22      0.15      4034\n",
      "weighted avg       0.16      0.22      0.16      4034\n",
      "\n"
     ]
    }
   ],
   "source": [
    "print(classification_report(y1_test,y_pred_dtbal))"
   ]
  },
  {
   "cell_type": "code",
   "execution_count": 217,
   "id": "da769440",
   "metadata": {},
   "outputs": [],
   "source": [
    "from sklearn import tree"
   ]
  },
  {
   "cell_type": "code",
   "execution_count": 218,
   "id": "c91d3d6c",
   "metadata": {},
   "outputs": [
    {
     "data": {
      "image/png": "[encoded data removed]",
      "text/plain": [
       "<Figure size 2000x700 with 1 Axes>"
      ]
     },
     "metadata": {},
     "output_type": "display_data"
    }
   ],
   "source": [
    "plt.figure(figsize=(20,7))\n",
    "tree.plot_tree(dt_bal_model,feature_names=x1.columns,filled=True,fontsize=5)\n",
    "plt.show()"
   ]
  },
  {
   "cell_type": "markdown",
   "id": "cc5cb5b1",
   "metadata": {},
   "source": [
    "### Random Forest"
   ]
  },
  {
   "cell_type": "code",
   "execution_count": 4,
   "id": "397bd536",
   "metadata": {},
   "outputs": [],
   "source": [
    "param_grid_bal={\"n_estimators\":np.arange(20,101,20),\n",
    "            \"min_samples_split\":np.arange(10,51,10),\n",
    "            \"min_samples_leaf\":np.arange(10,101,20),\n",
    "            \"max_depth\":np.arange(3,15)}"
   ]
  },
  {
   "cell_type": "code",
   "execution_count": 5,
   "id": "81ddf91e",
   "metadata": {},
   "outputs": [],
   "source": [
    "rf_bal = RandomForestClassifier()"
   ]
  },
  {
   "cell_type": "code",
   "execution_count": 8,
   "id": "4e434ef6",
   "metadata": {},
   "outputs": [],
   "source": [
    "grid_cv_bal=GridSearchCV(rf_bal,param_grid_bal,cv=kf,scoring=\"accuracy\")"
   ]
  },
  {
   "cell_type": "code",
   "execution_count": 58,
   "id": "2dbd890c",
   "metadata": {},
   "outputs": [
    {
     "data": {
      "text/plain": [
       "GridSearchCV(cv=KFold(n_splits=5, random_state=42, shuffle=True),\n",
       "             estimator=RandomForestClassifier(),\n",
       "             param_grid={'max_depth': array([ 3,  4,  5,  6,  7,  8,  9, 10, 11, 12, 13, 14]),\n",
       "                         'min_samples_leaf': array([10, 30, 50, 70, 90]),\n",
       "                         'min_samples_split': array([10, 20, 30, 40, 50]),\n",
       "                         'n_estimators': array([ 20,  40,  60,  80, 100])},\n",
       "             scoring='precision')"
      ]
     },
     "execution_count": 58,
     "metadata": {},
     "output_type": "execute_result"
    }
   ],
   "source": [
    "grid_cv_bal.fit(x1,y1)"
   ]
  },
  {
   "cell_type": "code",
   "execution_count": null,
   "id": "357ab1a3",
   "metadata": {},
   "outputs": [],
   "source": [
    "grid_cv_bal.best_score_"
   ]
  },
  {
   "cell_type": "code",
   "execution_count": 60,
   "id": "4b336899",
   "metadata": {},
   "outputs": [
    {
     "data": {
      "text/plain": [
       "{'max_depth': 3,\n",
       " 'min_samples_leaf': 10,\n",
       " 'min_samples_split': 10,\n",
       " 'n_estimators': 20}"
      ]
     },
     "execution_count": 60,
     "metadata": {},
     "output_type": "execute_result"
    }
   ],
   "source": [
    "grid_cv_bal.best_params_"
   ]
  },
  {
   "cell_type": "code",
   "execution_count": 61,
   "id": "1e927a5d",
   "metadata": {},
   "outputs": [
    {
     "data": {
      "text/plain": [
       "RandomForestClassifier(max_depth=3, min_samples_leaf=10, min_samples_split=10,\n",
       "                       n_estimators=20)"
      ]
     },
     "execution_count": 61,
     "metadata": {},
     "output_type": "execute_result"
    }
   ],
   "source": [
    "grid_cv_bal.best_estimator_"
   ]
  },
  {
   "cell_type": "code",
   "execution_count": 47,
   "id": "5b231e5b",
   "metadata": {},
   "outputs": [
    {
     "data": {
      "text/plain": [
       "RandomForestClassifier(max_depth=3, min_samples_leaf=10, min_samples_split=10,\n",
       "                       n_estimators=20)"
      ]
     },
     "execution_count": 47,
     "metadata": {},
     "output_type": "execute_result"
    }
   ],
   "source": [
    "rfbal_model = RandomForestClassifier(max_depth=3, min_samples_leaf=10, min_samples_split=10,\n",
    "                       n_estimators=20)\n",
    "rfbal_model.fit(x1,y1)"
   ]
  },
  {
   "cell_type": "code",
   "execution_count": 48,
   "id": "927b2706",
   "metadata": {},
   "outputs": [
    {
     "name": "stdout",
     "output_type": "stream",
     "text": [
      "rf_train_acc_score 0.29929876753081175\n",
      "rf_test_acc_score 0.3073872087258304\n"
     ]
    }
   ],
   "source": [
    "rfb_actrain = rfbal_model.score(X1_train, y1_train)\n",
    "rfb_actest = rfbal_model.score(X1_test, y1_test)\n",
    "\n",
    "print(\"rf_train_acc_score\", rfb_actrain)\n",
    "train_accrcy_score.append(rfb_actrain)\n",
    "\n",
    "print(\"rf_test_acc_score\", rfb_actest)\n",
    "test_accrcy_score.append(rfb_actest)"
   ]
  },
  {
   "cell_type": "code",
   "execution_count": 49,
   "id": "52d11db7",
   "metadata": {},
   "outputs": [],
   "source": [
    "y_predbalrf=rfbal_model.predict(X1_test)"
   ]
  },
  {
   "cell_type": "code",
   "execution_count": 50,
   "id": "d5f9fc35",
   "metadata": {},
   "outputs": [
    {
     "name": "stdout",
     "output_type": "stream",
     "text": [
      "f1_test_score 0.3073872087258304\n"
     ]
    }
   ],
   "source": [
    "f1bal_test = f1_score(y1_test, y_predbalrf,average='micro')\n",
    "test_f1_score.append(f1bal_test)\n",
    "\n",
    "print(\"f1_test_score\", f1bal_test)"
   ]
  },
  {
   "cell_type": "code",
   "execution_count": 51,
   "id": "0a767934",
   "metadata": {},
   "outputs": [
    {
     "name": "stdout",
     "output_type": "stream",
     "text": [
      "Model precision_score : 0.3073872087258304\n"
     ]
    }
   ],
   "source": [
    "rf_precision = precision_score(y1_test,y_predbalrf,average='micro')\n",
    "precision.append(rf_precision)\n",
    "print(\"Model precision_score :\",rf_precision)"
   ]
  },
  {
   "cell_type": "code",
   "execution_count": 52,
   "id": "4598bdb6",
   "metadata": {},
   "outputs": [
    {
     "name": "stdout",
     "output_type": "stream",
     "text": [
      "Model recall_score : 0.3073872087258304\n"
     ]
    }
   ],
   "source": [
    "rf_recall=recall_score(y1_test,y_predbalrf, average='micro')\n",
    "recall.append(rf_recall)\n",
    "print(\"Model recall_score :\",rf_recall)"
   ]
  },
  {
   "cell_type": "code",
   "execution_count": 53,
   "id": "90c5e334",
   "metadata": {},
   "outputs": [
    {
     "name": "stdout",
     "output_type": "stream",
     "text": [
      "[[  1  22  24   4   1  16   0  27   0   7   5   9  11   0  32  18  32  10]\n",
      " [  0  39  41   2   0  12   2  19   2  14   1  13   5   0  29   1  36  13]\n",
      " [  0   0 174   0   0  11   0  27   0   1   0   2   5   0   6   0   4   5]\n",
      " [  1   0  27  14   2  51   2  20   1   9  14   9  14   0  14  16  11   5]\n",
      " [  0   2   8   0  12  36   0  13   0  10  11  14  17   0  21  13  47   5]\n",
      " [  0   0   0   1   4 205   0   0   0   1   3   2   0   0   0   0   2   0]\n",
      " [  3   3   4   2   7  46   6   4   0  36   8  12  11   0  15   6  42  21]\n",
      " [  0   1  89   5   0  11   0  75   0   2   4  12  15   0   5   4   9   2]\n",
      " [  0   4  61   0   1   6   1  32   6   6   4   7  28   0  35   5  17   1]\n",
      " [  0   0   1   0   0  12   0   0   0  79   3   1   2   0   7   7  68  21]\n",
      " [  1   0   8   3   3  71   1  31   0   1  60   4  25   0   9   5   9   3]\n",
      " [  0   0  15   1   1  27   0   4   1  22   4  93  24   0   0   3  28  23]\n",
      " [  0   3  54   0   0  13   0  20   0   0  22   2  55   0  13  17  25   3]\n",
      " [  0   0  13   3  14  50   0  24   0  12   6   8  25   0  19  14  42   0]\n",
      " [  0  23  41   0   8  15   2   9   0   3  12   3   9   0  92   6   9   3]\n",
      " [  0   8  16   3   3  18   1   7   1   6  25   3  27   1  24  37  41   0]\n",
      " [  0   5   4   0   0   0   0   0   0  19   0   8   2   0   6   1 155  13]\n",
      " [  0  11  12   0   0   4   0   0   0  14   1   2   3   0   0   0  49 137]]\n"
     ]
    }
   ],
   "source": [
    "print(confusion_matrix(y1_test,y_predbalrf))"
   ]
  },
  {
   "cell_type": "code",
   "execution_count": 54,
   "id": "ae86a1d0",
   "metadata": {},
   "outputs": [
    {
     "name": "stdout",
     "output_type": "stream",
     "text": [
      "              precision    recall  f1-score   support\n",
      "\n",
      "           0       0.17      0.00      0.01       219\n",
      "           1       0.32      0.17      0.22       229\n",
      "           2       0.29      0.74      0.42       235\n",
      "           3       0.37      0.07      0.11       210\n",
      "           4       0.21      0.06      0.09       209\n",
      "           5       0.34      0.94      0.50       218\n",
      "           6       0.40      0.03      0.05       226\n",
      "           7       0.24      0.32      0.27       234\n",
      "           8       0.55      0.03      0.05       214\n",
      "          10       0.33      0.39      0.36       201\n",
      "          11       0.33      0.26      0.29       234\n",
      "          12       0.46      0.38      0.41       246\n",
      "          13       0.20      0.24      0.22       227\n",
      "          14       0.00      0.00      0.00       230\n",
      "          15       0.28      0.39      0.33       235\n",
      "          16       0.24      0.17      0.20       221\n",
      "          17       0.25      0.73      0.37       213\n",
      "          18       0.52      0.59      0.55       233\n",
      "\n",
      "    accuracy                           0.31      4034\n",
      "   macro avg       0.30      0.31      0.25      4034\n",
      "weighted avg       0.31      0.31      0.25      4034\n",
      "\n"
     ]
    }
   ],
   "source": [
    "print(classification_report(y1_test,y_predbalrf))"
   ]
  },
  {
   "cell_type": "markdown",
   "id": "5d47e3ab",
   "metadata": {},
   "source": [
    "### Ada Boost"
   ]
  },
  {
   "cell_type": "code",
   "execution_count": 70,
   "id": "0521d52b",
   "metadata": {},
   "outputs": [],
   "source": [
    "ada = AdaBoostClassifier()"
   ]
  },
  {
   "cell_type": "code",
   "execution_count": 71,
   "id": "5c0828f6",
   "metadata": {},
   "outputs": [],
   "source": [
    "param_grid_ada_bal={\"n_estimators\":np.arange(10,101,10),\n",
    "            \"learning_rate\":np.arange(0.05,1,0.05)\n",
    "}"
   ]
  },
  {
   "cell_type": "code",
   "execution_count": 72,
   "id": "68a51bcc",
   "metadata": {},
   "outputs": [],
   "source": [
    "grid_cv2_bal = GridSearchCV(ada,param_grid_ada_bal,cv=kf,scoring=\"precision\")"
   ]
  },
  {
   "cell_type": "code",
   "execution_count": 73,
   "id": "e725180e",
   "metadata": {},
   "outputs": [
    {
     "data": {
      "text/plain": [
       "GridSearchCV(cv=KFold(n_splits=5, random_state=42, shuffle=True),\n",
       "             estimator=AdaBoostClassifier(),\n",
       "             param_grid={'learning_rate': array([0.05, 0.1 , 0.15, 0.2 , 0.25, 0.3 , 0.35, 0.4 , 0.45, 0.5 , 0.55,\n",
       "       0.6 , 0.65, 0.7 , 0.75, 0.8 , 0.85, 0.9 , 0.95]),\n",
       "                         'n_estimators': array([ 10,  20,  30,  40,  50,  60,  70,  80,  90, 100])},\n",
       "             scoring='precision')"
      ]
     },
     "execution_count": 73,
     "metadata": {},
     "output_type": "execute_result"
    }
   ],
   "source": [
    "grid_cv2_bal.fit(X1_train,y1_train)"
   ]
  },
  {
   "cell_type": "code",
   "execution_count": 74,
   "id": "92335545",
   "metadata": {},
   "outputs": [
    {
     "data": {
      "text/plain": [
       "{'learning_rate': 0.05, 'n_estimators': 10}"
      ]
     },
     "execution_count": 74,
     "metadata": {},
     "output_type": "execute_result"
    }
   ],
   "source": [
    "grid_cv2_bal.best_params_"
   ]
  },
  {
   "cell_type": "code",
   "execution_count": 75,
   "id": "8c89eba9",
   "metadata": {},
   "outputs": [
    {
     "data": {
      "text/plain": [
       "AdaBoostClassifier(learning_rate=0.05, n_estimators=10)"
      ]
     },
     "execution_count": 75,
     "metadata": {},
     "output_type": "execute_result"
    }
   ],
   "source": [
    "grid_cv2_bal.best_estimator_"
   ]
  },
  {
   "cell_type": "code",
   "execution_count": 76,
   "id": "a9382f35",
   "metadata": {},
   "outputs": [
    {
     "data": {
      "text/plain": [
       "nan"
      ]
     },
     "execution_count": 76,
     "metadata": {},
     "output_type": "execute_result"
    }
   ],
   "source": [
    "grid_cv2_bal.best_score_"
   ]
  },
  {
   "cell_type": "code",
   "execution_count": 55,
   "id": "a55d0da6",
   "metadata": {},
   "outputs": [
    {
     "data": {
      "text/plain": [
       "AdaBoostClassifier(learning_rate=0.05, n_estimators=10)"
      ]
     },
     "execution_count": 55,
     "metadata": {},
     "output_type": "execute_result"
    }
   ],
   "source": [
    "bal_ada_model = AdaBoostClassifier(learning_rate=0.05, n_estimators=10)\n",
    "bal_ada_model.fit(x1,y1)"
   ]
  },
  {
   "cell_type": "code",
   "execution_count": 56,
   "id": "1d5e7e43",
   "metadata": {},
   "outputs": [
    {
     "name": "stdout",
     "output_type": "stream",
     "text": [
      "ad_train_acc_score 0.16840203994900127\n",
      "ad_test_acc_score 0.16980664352999505\n"
     ]
    }
   ],
   "source": [
    "ad_bal_actrain = bal_ada_model.score(X1_train, y1_train)\n",
    "ad_bal_actest = bal_ada_model.score(X1_test, y1_test)\n",
    "\n",
    "print(\"ad_train_acc_score\", ad_bal_actrain)\n",
    "train_accrcy_score.append(ad_bal_actrain)\n",
    "print(\"ad_test_acc_score\", ad_bal_actest)\n",
    "test_accrcy_score.append(ad_bal_actest)"
   ]
  },
  {
   "cell_type": "code",
   "execution_count": 57,
   "id": "59b009b9",
   "metadata": {},
   "outputs": [],
   "source": [
    "y_pred_ad_bal = bal_ada_model.predict(X1_test)"
   ]
  },
  {
   "cell_type": "code",
   "execution_count": 58,
   "id": "4f47486f",
   "metadata": {},
   "outputs": [
    {
     "name": "stdout",
     "output_type": "stream",
     "text": [
      "Model precision_score : 0.16980664352999505\n"
     ]
    }
   ],
   "source": [
    "ad_precision = precision_score(y1_test,y_pred_ad_bal,average='micro')\n",
    "precision.append(ad_precision)\n",
    "print(\"Model precision_score :\",ad_precision)"
   ]
  },
  {
   "cell_type": "code",
   "execution_count": 59,
   "id": "e19c4680",
   "metadata": {},
   "outputs": [
    {
     "name": "stdout",
     "output_type": "stream",
     "text": [
      "Model recall_score : 0.16980664352999505\n"
     ]
    }
   ],
   "source": [
    "ad_recall=recall_score(y1_test,y_pred_ad_bal,average='micro')\n",
    "recall.append(ad_recall)\n",
    "print(\"Model recall_score :\",ad_recall)"
   ]
  },
  {
   "cell_type": "code",
   "execution_count": 60,
   "id": "6ff51031",
   "metadata": {},
   "outputs": [
    {
     "name": "stdout",
     "output_type": "stream",
     "text": [
      "f1_test_score 0.16980664352999505\n"
     ]
    }
   ],
   "source": [
    "f1ada_test = f1_score(y1_test, y_pred_ad_bal,average='micro')\n",
    "test_f1_score.append(f1ada_test)\n",
    "\n",
    "print(\"f1_test_score\", f1ada_test)"
   ]
  },
  {
   "cell_type": "code",
   "execution_count": 61,
   "id": "dc58295b",
   "metadata": {},
   "outputs": [
    {
     "name": "stdout",
     "output_type": "stream",
     "text": [
      "[[  0   0  72   0   0   5   2   1   0   4  11   0   0   0   0   0 116   8]\n",
      " [  0   0  79   0   0   3   4   1   1   0   9   0   0   0   0   0 122  10]\n",
      " [  0   0 217   0   0   0   0   0   0   0   7   0   0   0   0   0  10   1]\n",
      " [  0   0  81   0   0  22   4   3   0   3  35   0   0   0   0   0  53   9]\n",
      " [  0   0  49   0   0  15  12   2   0   4  17   0   0   0   0   0  99  11]\n",
      " [  0   0  10   0   0 134   7   2   0   1  30   0   0   0   0   0   4  30]\n",
      " [  0   0  28   0   0  14  17   2   0   3  17   0   0   0   0   0 119  26]\n",
      " [  0   0 202   0   0   2   1   2   2   0   4   0   0   0   0   0  19   2]\n",
      " [  0   0 129   0   0   5   7   3   1   4   2   0   0   0   0   0  62   1]\n",
      " [  0   0   4   0   0   6   3   2   0   3   6   0   0   0   0   0 149  28]\n",
      " [  0   0  75   0   0  68   8   5   0   0  50   0   0   0   0   0  22   6]\n",
      " [  0   0 133   0   0   0   4   2   1   6  21   0   0   0   0   0  70   9]\n",
      " [  0   0 147   0   0   8   4   4   1   2   5   0   0   0   0   0  52   4]\n",
      " [  0   0  79   0   0  16   7   3   0   3  21   0   0   0   0   0  97   4]\n",
      " [  0   0  64   0   0  10   7   6   1   3  12   0   0   0   0   0 130   2]\n",
      " [  0   0  58   0   0  16   6   4   0   2  15   0   0   0   0   0 115   5]\n",
      " [  0   0  10   0   0   0   0   1   0   0   0   0   0   0   0   0 185  17]\n",
      " [  0   0  15   0   0   1   4   0   0   3  69   0   0   0   0   0  65  76]]\n"
     ]
    }
   ],
   "source": [
    "print(confusion_matrix(y1_test,y_pred_ad_bal))"
   ]
  },
  {
   "cell_type": "code",
   "execution_count": 62,
   "id": "c58eee5e",
   "metadata": {},
   "outputs": [
    {
     "name": "stdout",
     "output_type": "stream",
     "text": [
      "              precision    recall  f1-score   support\n",
      "\n",
      "           0       0.00      0.00      0.00       219\n",
      "           1       0.00      0.00      0.00       229\n",
      "           2       0.15      0.92      0.26       235\n",
      "           3       0.00      0.00      0.00       210\n",
      "           4       0.00      0.00      0.00       209\n",
      "           5       0.41      0.61      0.49       218\n",
      "           6       0.18      0.08      0.11       226\n",
      "           7       0.05      0.01      0.01       234\n",
      "           8       0.14      0.00      0.01       214\n",
      "          10       0.07      0.01      0.02       201\n",
      "          11       0.15      0.21      0.18       234\n",
      "          12       0.00      0.00      0.00       246\n",
      "          13       0.00      0.00      0.00       227\n",
      "          14       0.00      0.00      0.00       230\n",
      "          15       0.00      0.00      0.00       235\n",
      "          16       0.00      0.00      0.00       221\n",
      "          17       0.12      0.87      0.22       213\n",
      "          18       0.31      0.33      0.32       233\n",
      "\n",
      "    accuracy                           0.17      4034\n",
      "   macro avg       0.09      0.17      0.09      4034\n",
      "weighted avg       0.09      0.17      0.09      4034\n",
      "\n"
     ]
    }
   ],
   "source": [
    "print(classification_report(y1_test,y_pred_ad_bal))"
   ]
  },
  {
   "cell_type": "markdown",
   "id": "f5633153",
   "metadata": {},
   "source": [
    "### KNN"
   ]
  },
  {
   "cell_type": "code",
   "execution_count": 63,
   "id": "f22e87f5",
   "metadata": {},
   "outputs": [
    {
     "name": "stdout",
     "output_type": "stream",
     "text": [
      "2 :  0.8721565900453591\n",
      "3 :  0.8508863730937414\n",
      "4 :  0.8375738690327246\n",
      "5 :  0.8212125677930603\n",
      "6 :  0.8112466734223555\n",
      "7 :  0.8012809172990334\n",
      "8 :  0.7926537829322547\n",
      "9 :  0.7819443111893284\n",
      "10 :  0.7729454572601305\n",
      "11 :  0.7640951086693551\n",
      "12 :  0.7559141815547576\n",
      "13 :  0.7466175980623247\n",
      "14 :  0.7411142186050563\n",
      "15 :  0.7304791792529388\n",
      "16 :  0.7249758550946235\n",
      "17 :  0.7167949832789792\n",
      "18 :  0.7114399709127508\n",
      "19 :  0.7034823409705796\n",
      "20 :  0.6973840000774186\n",
      "21 :  0.6915087904598245\n",
      "22 :  0.6852616124345225\n",
      "23 :  0.6789400573173648\n",
      "24 :  0.6738826639164655\n"
     ]
    }
   ],
   "source": [
    "r2_scores=[]\n",
    "for k in range(2,25):\n",
    "    knn_score=cross_val_score(KNeighborsClassifier(k),x1, y1,scoring=\"accuracy\",cv=5)\n",
    "    print(f'{k} : ',np.mean(knn_score))\n",
    "    r2_scores.append(knn_score)"
   ]
  },
  {
   "cell_type": "code",
   "execution_count": 64,
   "id": "3c73d9d7",
   "metadata": {},
   "outputs": [],
   "source": [
    "# plt.figure(figsize=(9,5))\n",
    "# plt.plot(range(2,25),r2_scores,marker=\"o\")\n",
    "# plt.ylabel(\"r2_scores\")\n",
    "# plt.xlabel(\"k_values\")\n",
    "# plt.title(\"r2_scores in different k values\")\n",
    "# plt.xticks(range(0,25,3))\n",
    "# plt.grid()\n",
    "# plt.show()"
   ]
  },
  {
   "cell_type": "code",
   "execution_count": 65,
   "id": "095a378f",
   "metadata": {},
   "outputs": [],
   "source": [
    "k= 2\n",
    "kn_model = KNeighborsClassifier(k).fit(X1_train, y1_train)\n",
    "y_pred5_kn = kn_model.predict(X1_test)"
   ]
  },
  {
   "cell_type": "code",
   "execution_count": 66,
   "id": "4256d33b",
   "metadata": {},
   "outputs": [
    {
     "name": "stdout",
     "output_type": "stream",
     "text": [
      "kn_train_acc_score 0.9648321291967701\n",
      "kn_test_acc_score 0.8601883986117997\n"
     ]
    }
   ],
   "source": [
    "kn_actrain = kn_model.score(X1_train, y1_train)\n",
    "kn_actest = kn_model.score(X1_test, y1_test)\n",
    "\n",
    "print(\"kn_train_acc_score\", kn_actrain)\n",
    "train_accrcy_score.append(kn_actrain)\n",
    "print(\"kn_test_acc_score\", kn_actest)\n",
    "test_accrcy_score.append(kn_actest)"
   ]
  },
  {
   "cell_type": "code",
   "execution_count": 67,
   "id": "106e3c02",
   "metadata": {},
   "outputs": [
    {
     "name": "stdout",
     "output_type": "stream",
     "text": [
      "f1_test_score 0.8601883986117997\n"
     ]
    }
   ],
   "source": [
    "f1_test = f1_score(y1_test, y_pred5_kn,average='micro')\n",
    "test_f1_score.append(f1_test)\n",
    "\n",
    "print(\"f1_test_score\", f1_test)"
   ]
  },
  {
   "cell_type": "code",
   "execution_count": 68,
   "id": "bd0772ec",
   "metadata": {},
   "outputs": [
    {
     "name": "stdout",
     "output_type": "stream",
     "text": [
      "Model precision_score : 0.8601883986117997\n"
     ]
    }
   ],
   "source": [
    "kn_precision = precision_score(y1_test,y_pred5_kn, average='micro')\n",
    "precision.append(kn_precision)\n",
    "print(\"Model precision_score :\",kn_precision)"
   ]
  },
  {
   "cell_type": "code",
   "execution_count": 69,
   "id": "d1b53544",
   "metadata": {},
   "outputs": [
    {
     "name": "stdout",
     "output_type": "stream",
     "text": [
      "Model recall_score : 0.8601883986117997\n"
     ]
    }
   ],
   "source": [
    "kn_recall=recall_score(y1_test,y_pred5_kn,average='micro')\n",
    "recall.append(kn_recall)\n",
    "print(\"Model recall_score :\",kn_recall)"
   ]
  },
  {
   "cell_type": "code",
   "execution_count": 70,
   "id": "d1c653c9",
   "metadata": {},
   "outputs": [
    {
     "name": "stdout",
     "output_type": "stream",
     "text": [
      "[[121  17   5  16   7   1   5   5   4   2   4   4   4   7   9   3   2   3]\n",
      " [ 13 198   4   1   1   0   6   0   0   2   0   0   0   0   0   1   0   3]\n",
      " [  0   2 231   0   0   0   0   0   1   1   0   0   0   0   0   0   0   0]\n",
      " [ 28  12   5  80  17   3  12   7   7   1   6   3   5   7   3  10   3   1]\n",
      " [  5   0   0   3 201   0   0   0   0   0   0   0   0   0   0   0   0   0]\n",
      " [  0   0   0   0   0 218   0   0   0   0   0   0   0   0   0   0   0   0]\n",
      " [ 27  29   2  28  30   9  28   3   5   9   5   7   6   7   6  12   7   6]\n",
      " [  0   0   0   1   0   0   0 233   0   0   0   0   0   0   0   0   0   0]\n",
      " [  0   0   2   1   0   0   1   1 208   0   0   0   0   0   0   1   0   0]\n",
      " [  1   0   0   0   0   0   0   0   0 200   0   0   0   0   0   0   0   0]\n",
      " [  6   2   0   6   3   3   4   6   3   0 196   0   0   0   0   1   0   4]\n",
      " [  0   0   0   0   0   0   0   1   0   0   0 245   0   0   0   0   0   0]\n",
      " [  0   1   0   1   0   0   1   0   0   0   0   0 224   0   0   0   0   0]\n",
      " [  0   1   0   1   0   1   1   0   1   0   1   1   1 222   0   0   0   0]\n",
      " [  1   4   0   1   0   0   1   1   0   0   0   0   0   0 227   0   0   0]\n",
      " [  3   2   1   2   3   0   2   5   0   1   3   2   1   2   1 193   0   0]\n",
      " [  0   0   0   0   0   0   0   0   0   0   0   0   0   0   0   0 213   0]\n",
      " [  0   0   0   0   0   0   0   0   0   0   0   0   1   0   0   0   0 232]]\n"
     ]
    }
   ],
   "source": [
    "print(confusion_matrix(y1_test,y_pred5_kn))"
   ]
  },
  {
   "cell_type": "code",
   "execution_count": 71,
   "id": "85658266",
   "metadata": {},
   "outputs": [
    {
     "name": "stdout",
     "output_type": "stream",
     "text": [
      "              precision    recall  f1-score   support\n",
      "\n",
      "           0       0.59      0.55      0.57       219\n",
      "           1       0.74      0.86      0.80       229\n",
      "           2       0.92      0.98      0.95       235\n",
      "           3       0.57      0.38      0.46       210\n",
      "           4       0.77      0.96      0.85       209\n",
      "           5       0.93      1.00      0.96       218\n",
      "           6       0.46      0.12      0.20       226\n",
      "           7       0.89      1.00      0.94       234\n",
      "           8       0.91      0.97      0.94       214\n",
      "          10       0.93      1.00      0.96       201\n",
      "          11       0.91      0.84      0.87       234\n",
      "          12       0.94      1.00      0.96       246\n",
      "          13       0.93      0.99      0.96       227\n",
      "          14       0.91      0.97      0.93       230\n",
      "          15       0.92      0.97      0.94       235\n",
      "          16       0.87      0.87      0.87       221\n",
      "          17       0.95      1.00      0.97       213\n",
      "          18       0.93      1.00      0.96       233\n",
      "\n",
      "    accuracy                           0.86      4034\n",
      "   macro avg       0.84      0.86      0.84      4034\n",
      "weighted avg       0.84      0.86      0.84      4034\n",
      "\n"
     ]
    }
   ],
   "source": [
    "print(classification_report(y1_test,y_pred5_kn))"
   ]
  },
  {
   "cell_type": "markdown",
   "id": "e44a3616",
   "metadata": {},
   "source": [
    "### Stacking"
   ]
  },
  {
   "cell_type": "code",
   "execution_count": 74,
   "id": "8193dca2",
   "metadata": {},
   "outputs": [],
   "source": [
    "level1=[]\n",
    "level1.append((\"lr\",lr_bal_model))\n",
    "level1.append((\"svr\",SVC()))\n",
    "level1.append((\"dt\",dt_bal_model))\n",
    "level1.append((\"rnd\",rfbal_model))\n",
    "level1.append((\"ada\", bal_ada_model))\n",
    "level2=LogisticRegression() \n",
    "stack_model_bal=StackingClassifier(estimators=level1,final_estimator=level2,cv=kf)"
   ]
  },
  {
   "cell_type": "code",
   "execution_count": 75,
   "id": "f405209e",
   "metadata": {},
   "outputs": [
    {
     "data": {
      "text/plain": [
       "[('lr', LogisticRegression()),\n",
       " ('svr', SVC()),\n",
       " ('dt',\n",
       "  DecisionTreeClassifier(max_depth=3, min_samples_leaf=10, min_samples_split=10)),\n",
       " ('rnd',\n",
       "  RandomForestClassifier(max_depth=3, min_samples_leaf=10, min_samples_split=10,\n",
       "                         n_estimators=20)),\n",
       " ('ada', AdaBoostClassifier(learning_rate=0.05, n_estimators=10))]"
      ]
     },
     "execution_count": 75,
     "metadata": {},
     "output_type": "execute_result"
    }
   ],
   "source": [
    "level1"
   ]
  },
  {
   "cell_type": "code",
   "execution_count": 76,
   "id": "3c31abca",
   "metadata": {},
   "outputs": [],
   "source": [
    "st_model_bal =stack_model_bal.fit(X1_train, y1_train)\n",
    "y_pred_stbal = st_model_bal.predict(X1_test)"
   ]
  },
  {
   "cell_type": "code",
   "execution_count": 77,
   "id": "aeb755c1",
   "metadata": {},
   "outputs": [
    {
     "name": "stdout",
     "output_type": "stream",
     "text": [
      "st_train_acc_score 0.7979175520611985\n",
      "st_test_acc_score 0.7526028755577591\n"
     ]
    }
   ],
   "source": [
    "stbal_actrain = st_model_bal.score(X1_train, y1_train)\n",
    "stbal_actest = st_model_bal.score(X1_test, y1_test)\n",
    "\n",
    "print(\"st_train_acc_score\", stbal_actrain)\n",
    "train_accrcy_score.append(stbal_actrain)\n",
    "print(\"st_test_acc_score\", stbal_actest)\n",
    "test_accrcy_score.append(stbal_actest)"
   ]
  },
  {
   "cell_type": "code",
   "execution_count": 78,
   "id": "6716f784",
   "metadata": {},
   "outputs": [
    {
     "name": "stdout",
     "output_type": "stream",
     "text": [
      "f1_test_score 0.752602875557759\n"
     ]
    }
   ],
   "source": [
    "f1_test_stbal = f1_score(y1_test, y_pred_stbal,average='micro')\n",
    "test_f1_score.append(f1_test_stbal)\n",
    "\n",
    "print(\"f1_test_score\", f1_test_stbal)"
   ]
  },
  {
   "cell_type": "code",
   "execution_count": 79,
   "id": "b1e9e881",
   "metadata": {},
   "outputs": [
    {
     "name": "stdout",
     "output_type": "stream",
     "text": [
      "Model precision_score : 0.7526028755577591\n"
     ]
    }
   ],
   "source": [
    "st_precision = precision_score(y1_test,y_pred_stbal,average='micro')\n",
    "precision.append(st_precision)\n",
    "print(\"Model precision_score :\",st_precision)"
   ]
  },
  {
   "cell_type": "code",
   "execution_count": 80,
   "id": "72b33112",
   "metadata": {},
   "outputs": [
    {
     "name": "stdout",
     "output_type": "stream",
     "text": [
      "Model recall_score : 0.7526028755577591\n"
     ]
    }
   ],
   "source": [
    "st_recall=recall_score(y1_test,y_pred_stbal, average='micro')\n",
    "recall.append(st_recall)\n",
    "print(\"Model recall_score :\",st_recall)"
   ]
  },
  {
   "cell_type": "code",
   "execution_count": 81,
   "id": "f33a58bd",
   "metadata": {},
   "outputs": [
    {
     "name": "stdout",
     "output_type": "stream",
     "text": [
      "[[ 31  29   6  13  15   2  20   8   8   5  18   3   4  12  19  20   2   4]\n",
      " [  8 101  21  21   5   0  17   2  11   4   3   4   3   0  18   5   4   2]\n",
      " [  4   2 224   0   0   0   1   2   2   0   0   0   0   0   0   0   0   0]\n",
      " [  9   3   8  26  17   8  26   6  12   3  29   6   4  14  10  25   2   2]\n",
      " [  1   2   0   7 152   3   7   0   3   0   4   1   3  16   2   4   2   2]\n",
      " [  0   0   0   0   0 217   1   0   0   0   0   0   0   0   0   0   0   0]\n",
      " [  7  15   2  12  21   7  75   3   5   7   3   9   5   9   7  27   7   5]\n",
      " [  0   0   4   0   0   0   1 228   0   0   0   1   0   0   0   0   0   0]\n",
      " [  1   2   2   1   4   1   3   7 167   0   4   0   1   6   8   7   0   0]\n",
      " [  0   0   0   0   0   0   0   0   0 201   0   0   0   0   0   0   0   0]\n",
      " [  0  11   1  10   4   2   1   6   6   3 157   1   6   8   2   8   0   8]\n",
      " [  0   0   0   0   0   0   0   0   0   0   0 244   0   1   1   0   0   0]\n",
      " [  0   1   0   0   0   0   0   0   0   0   4   2 218   2   0   0   0   0]\n",
      " [  0   0   3   3   6   3   3   0   4   7   0   2   0 189   2   6   0   2]\n",
      " [  1   4   0   0   5   0   0   0   2   0   5   0   2   1 211   4   0   0]\n",
      " [  3   3   1   0  11   1   2   3   0   5  22   1   4   7   4 154   0   0]\n",
      " [  0   0   0   0   0   0   0   0   0   0   0   0   0   1   0   0 212   0]\n",
      " [  0   0   0   0   1   0   0   0   0   0   0   2   1   0   0   0   0 229]]\n"
     ]
    }
   ],
   "source": [
    "print(confusion_matrix(y1_test,y_pred_stbal))"
   ]
  },
  {
   "cell_type": "code",
   "execution_count": 82,
   "id": "d802ee44",
   "metadata": {},
   "outputs": [
    {
     "name": "stdout",
     "output_type": "stream",
     "text": [
      "              precision    recall  f1-score   support\n",
      "\n",
      "           0       0.48      0.14      0.22       219\n",
      "           1       0.58      0.44      0.50       229\n",
      "           2       0.82      0.95      0.88       235\n",
      "           3       0.28      0.12      0.17       210\n",
      "           4       0.63      0.73      0.68       209\n",
      "           5       0.89      1.00      0.94       218\n",
      "           6       0.48      0.33      0.39       226\n",
      "           7       0.86      0.97      0.91       234\n",
      "           8       0.76      0.78      0.77       214\n",
      "          10       0.86      1.00      0.92       201\n",
      "          11       0.63      0.67      0.65       234\n",
      "          12       0.88      0.99      0.93       246\n",
      "          13       0.87      0.96      0.91       227\n",
      "          14       0.71      0.82      0.76       230\n",
      "          15       0.74      0.90      0.81       235\n",
      "          16       0.59      0.70      0.64       221\n",
      "          17       0.93      1.00      0.96       213\n",
      "          18       0.90      0.98      0.94       233\n",
      "\n",
      "    accuracy                           0.75      4034\n",
      "   macro avg       0.72      0.75      0.72      4034\n",
      "weighted avg       0.72      0.75      0.73      4034\n",
      "\n"
     ]
    }
   ],
   "source": [
    "print(classification_report(y1_test,y_pred_stbal))"
   ]
  },
  {
   "cell_type": "markdown",
   "id": "ac06a7ab",
   "metadata": {},
   "source": [
    "### Summary:"
   ]
  },
  {
   "cell_type": "code",
   "execution_count": 83,
   "id": "0828a8e1",
   "metadata": {},
   "outputs": [],
   "source": [
    "model_list=[\"Logistic Regression\",\"Gaussian Model\",\"Decision Tree classifier\",\"Random Forest classifier\",\"Ada-boost classifier\",\"KNN classifier\",\"Stacked classifier\"]\n",
    "metric_list=[\"Models\",\"Accuracy(train)\",\"Accuracy(test)\",\"Precision\",\"Recall\",\"F1 score\"]"
   ]
  },
  {
   "cell_type": "code",
   "execution_count": 84,
   "id": "e1c40ac1",
   "metadata": {},
   "outputs": [
    {
     "data": {
      "text/plain": [
       "['Logistic Regression',\n",
       " 'Gaussian Model',\n",
       " 'Decision Tree classifier',\n",
       " 'Random Forest classifier',\n",
       " 'Ada-boost classifier',\n",
       " 'KNN classifier',\n",
       " 'Stacked classifier']"
      ]
     },
     "execution_count": 84,
     "metadata": {},
     "output_type": "execute_result"
    }
   ],
   "source": [
    "model_list"
   ]
  },
  {
   "cell_type": "code",
   "execution_count": 85,
   "id": "09d340a6",
   "metadata": {},
   "outputs": [
    {
     "data": {
      "text/plain": [
       "[0.3383977900552486,\n",
       " 0.14768380790480237,\n",
       " 0.21653208669783255,\n",
       " 0.29929876753081175,\n",
       " 0.16840203994900127,\n",
       " 0.9648321291967701,\n",
       " 0.7979175520611985]"
      ]
     },
     "execution_count": 85,
     "metadata": {},
     "output_type": "execute_result"
    }
   ],
   "source": [
    "train_accrcy_score"
   ]
  },
  {
   "cell_type": "code",
   "execution_count": 86,
   "id": "e25519ae",
   "metadata": {},
   "outputs": [
    {
     "data": {
      "text/plain": [
       "[0.3165592464055528,\n",
       " 0.15642042637580567,\n",
       " 0.21789786812097173,\n",
       " 0.3073872087258304,\n",
       " 0.16980664352999505,\n",
       " 0.8601883986117997,\n",
       " 0.7526028755577591]"
      ]
     },
     "execution_count": 86,
     "metadata": {},
     "output_type": "execute_result"
    }
   ],
   "source": [
    "test_accrcy_score"
   ]
  },
  {
   "cell_type": "code",
   "execution_count": 87,
   "id": "dc9d50b8",
   "metadata": {},
   "outputs": [
    {
     "data": {
      "text/plain": [
       "[0.3165592464055528,\n",
       " 0.15642042637580567,\n",
       " 0.21789786812097173,\n",
       " 0.3073872087258304,\n",
       " 0.16980664352999505,\n",
       " 0.8601883986117997,\n",
       " 0.7526028755577591]"
      ]
     },
     "execution_count": 87,
     "metadata": {},
     "output_type": "execute_result"
    }
   ],
   "source": [
    "precision"
   ]
  },
  {
   "cell_type": "code",
   "execution_count": 88,
   "id": "c9c5b8ef",
   "metadata": {},
   "outputs": [
    {
     "data": {
      "text/plain": [
       "[0.3165592464055528,\n",
       " 0.15642042637580567,\n",
       " 0.21789786812097173,\n",
       " 0.3073872087258304,\n",
       " 0.16980664352999505,\n",
       " 0.8601883986117997,\n",
       " 0.7526028755577591]"
      ]
     },
     "execution_count": 88,
     "metadata": {},
     "output_type": "execute_result"
    }
   ],
   "source": [
    "recall"
   ]
  },
  {
   "cell_type": "code",
   "execution_count": 89,
   "id": "f3650de5",
   "metadata": {},
   "outputs": [
    {
     "data": {
      "text/plain": [
       "[0.3165592464055528,\n",
       " 0.15642042637580567,\n",
       " 0.21789786812097173,\n",
       " 0.3073872087258304,\n",
       " 0.16980664352999505,\n",
       " 0.8601883986117997,\n",
       " 0.752602875557759]"
      ]
     },
     "execution_count": 89,
     "metadata": {},
     "output_type": "execute_result"
    }
   ],
   "source": [
    "test_f1_score"
   ]
  },
  {
   "cell_type": "code",
   "execution_count": null,
   "id": "e61bc7ed",
   "metadata": {},
   "outputs": [],
   "source": []
  },
  {
   "cell_type": "code",
   "execution_count": 90,
   "id": "367dec2b",
   "metadata": {},
   "outputs": [
    {
     "data": {
      "text/html": [
       "<div>\n",
       "<style scoped>\n",
       "    .dataframe tbody tr th:only-of-type {\n",
       "        vertical-align: middle;\n",
       "    }\n",
       "\n",
       "    .dataframe tbody tr th {\n",
       "        vertical-align: top;\n",
       "    }\n",
       "\n",
       "    .dataframe thead th {\n",
       "        text-align: right;\n",
       "    }\n",
       "</style>\n",
       "<table border=\"1\" class=\"dataframe\">\n",
       "  <thead>\n",
       "    <tr style=\"text-align: right;\">\n",
       "      <th></th>\n",
       "      <th>Models</th>\n",
       "      <th>Accuracy(train)</th>\n",
       "      <th>Accuracy(test)</th>\n",
       "      <th>Precision</th>\n",
       "      <th>Recall</th>\n",
       "      <th>F1 score</th>\n",
       "    </tr>\n",
       "  </thead>\n",
       "  <tbody>\n",
       "    <tr>\n",
       "      <th>0</th>\n",
       "      <td>Logistic Regression</td>\n",
       "      <td>0.338398</td>\n",
       "      <td>0.316559</td>\n",
       "      <td>0.316559</td>\n",
       "      <td>0.316559</td>\n",
       "      <td>0.316559</td>\n",
       "    </tr>\n",
       "    <tr>\n",
       "      <th>1</th>\n",
       "      <td>Gaussian Model</td>\n",
       "      <td>0.147684</td>\n",
       "      <td>0.156420</td>\n",
       "      <td>0.156420</td>\n",
       "      <td>0.156420</td>\n",
       "      <td>0.156420</td>\n",
       "    </tr>\n",
       "    <tr>\n",
       "      <th>2</th>\n",
       "      <td>Decision Tree classifier</td>\n",
       "      <td>0.216532</td>\n",
       "      <td>0.217898</td>\n",
       "      <td>0.217898</td>\n",
       "      <td>0.217898</td>\n",
       "      <td>0.217898</td>\n",
       "    </tr>\n",
       "    <tr>\n",
       "      <th>3</th>\n",
       "      <td>Random Forest classifier</td>\n",
       "      <td>0.299299</td>\n",
       "      <td>0.307387</td>\n",
       "      <td>0.307387</td>\n",
       "      <td>0.307387</td>\n",
       "      <td>0.307387</td>\n",
       "    </tr>\n",
       "    <tr>\n",
       "      <th>4</th>\n",
       "      <td>Ada-boost classifier</td>\n",
       "      <td>0.168402</td>\n",
       "      <td>0.169807</td>\n",
       "      <td>0.169807</td>\n",
       "      <td>0.169807</td>\n",
       "      <td>0.169807</td>\n",
       "    </tr>\n",
       "    <tr>\n",
       "      <th>5</th>\n",
       "      <td>KNN classifier</td>\n",
       "      <td>0.964832</td>\n",
       "      <td>0.860188</td>\n",
       "      <td>0.860188</td>\n",
       "      <td>0.860188</td>\n",
       "      <td>0.860188</td>\n",
       "    </tr>\n",
       "    <tr>\n",
       "      <th>6</th>\n",
       "      <td>Stacked classifier</td>\n",
       "      <td>0.797918</td>\n",
       "      <td>0.752603</td>\n",
       "      <td>0.752603</td>\n",
       "      <td>0.752603</td>\n",
       "      <td>0.752603</td>\n",
       "    </tr>\n",
       "  </tbody>\n",
       "</table>\n",
       "</div>"
      ],
      "text/plain": [
       "                     Models  Accuracy(train)  Accuracy(test)  Precision  \\\n",
       "0       Logistic Regression         0.338398        0.316559   0.316559   \n",
       "1            Gaussian Model         0.147684        0.156420   0.156420   \n",
       "2  Decision Tree classifier         0.216532        0.217898   0.217898   \n",
       "3  Random Forest classifier         0.299299        0.307387   0.307387   \n",
       "4      Ada-boost classifier         0.168402        0.169807   0.169807   \n",
       "5            KNN classifier         0.964832        0.860188   0.860188   \n",
       "6        Stacked classifier         0.797918        0.752603   0.752603   \n",
       "\n",
       "     Recall  F1 score  \n",
       "0  0.316559  0.316559  \n",
       "1  0.156420  0.156420  \n",
       "2  0.217898  0.217898  \n",
       "3  0.307387  0.307387  \n",
       "4  0.169807  0.169807  \n",
       "5  0.860188  0.860188  \n",
       "6  0.752603  0.752603  "
      ]
     },
     "execution_count": 90,
     "metadata": {},
     "output_type": "execute_result"
    }
   ],
   "source": [
    "final_results=pd.DataFrame()\n",
    "for i in range(0,len(model_list)):\n",
    "    ab=[[model_list[i],train_accrcy_score[i],test_accrcy_score[i],precision[i],recall[i],test_f1_score[i]]]\n",
    "    new=pd.DataFrame(ab)\n",
    "    final_results=pd.concat([final_results,new],axis=0)\n",
    "final_results.columns=metric_list\n",
    "final_results=final_results.reset_index(drop=True)  \n",
    "final_results"
   ]
  },
  {
   "cell_type": "code",
   "execution_count": 91,
   "id": "08d485b7",
   "metadata": {},
   "outputs": [
    {
     "data": {
      "text/plain": [
       "['Logistic Regression',\n",
       " 'Gaussian Model',\n",
       " 'Decision Tree classifier',\n",
       " 'Random Forest classifier',\n",
       " 'Ada-boost classifier',\n",
       " 'KNN classifier',\n",
       " 'Stacked classifier']"
      ]
     },
     "execution_count": 91,
     "metadata": {},
     "output_type": "execute_result"
    }
   ],
   "source": [
    "rvse_list = list(final_results['Models'])\n",
    "rvse_list"
   ]
  },
  {
   "cell_type": "code",
   "execution_count": 92,
   "id": "ab3aea02",
   "metadata": {},
   "outputs": [],
   "source": [
    "rvse_list.reverse()"
   ]
  },
  {
   "cell_type": "code",
   "execution_count": 93,
   "id": "fb220f3a",
   "metadata": {},
   "outputs": [
    {
     "data": {
      "text/plain": [
       "['Stacked classifier',\n",
       " 'KNN classifier',\n",
       " 'Ada-boost classifier',\n",
       " 'Random Forest classifier',\n",
       " 'Decision Tree classifier',\n",
       " 'Gaussian Model',\n",
       " 'Logistic Regression']"
      ]
     },
     "execution_count": 93,
     "metadata": {},
     "output_type": "execute_result"
    }
   ],
   "source": [
    "rvse_list"
   ]
  },
  {
   "cell_type": "code",
   "execution_count": 94,
   "id": "25189d11",
   "metadata": {},
   "outputs": [
    {
     "data": {
      "image/png": "[encoded data removed]",
      "text/plain": [
       "<Figure size 640x480 with 1 Axes>"
      ]
     },
     "metadata": {},
     "output_type": "display_data"
    }
   ],
   "source": [
    "models = final_results['Models']\n",
    "test_score = final_results['Accuracy(test)']\n",
    "# ab = round(test_score.reverse(),4)\n",
    "\n",
    "sns.barplot(test_score,models ,orient='h',order=rvse_list)\n",
    "# plt.xlabel('Scores')\n",
    "# for i, v in enumerate(test_score):\n",
    "#     plt.text(v, i, str(v), ha='left', va='center')\n",
    "plt.title('Models')\n",
    "plt.show()"
   ]
  },
  {
   "cell_type": "markdown",
   "id": "d1fa87e2",
   "metadata": {},
   "source": [
    "# 'KNN Classifier' test accuracy is 86%"
   ]
  }
 ],
 "metadata": {
  "kernelspec": {
   "display_name": "Python 3 (ipykernel)",
   "language": "python",
   "name": "python3"
  },
  "language_info": {
   "codemirror_mode": {
    "name": "ipython",
    "version": 3
   },
   "file_extension": ".py",
   "mimetype": "text/x-python",
   "name": "python",
   "nbconvert_exporter": "python",
   "pygments_lexer": "ipython3",
   "version": "3.9.17"
  }
 },
 "nbformat": 4,
 "nbformat_minor": 5
}
